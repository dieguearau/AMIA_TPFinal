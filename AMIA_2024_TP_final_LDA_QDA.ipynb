{
 "cells": [
  {
   "cell_type": "markdown",
   "metadata": {
    "id": "bpJ7s_SIVu_I"
   },
   "source": [
    "# Trabajo Práctico Final: Linear/Quadratic Discriminant Analysis (LDA/QDA)\n",
    "\n",
    "### Definición: Clasificador Bayesiano\n",
    "\n",
    "Sean $k$ poblaciones, $x \\in \\mathbb{R}^p$ puede pertenecer a cualquiera $g \\in \\mathcal{G}$ de ellas. Bajo un esquema bayesiano, se define entonces $\\pi_j \\doteq P(G = j)$ la probabilidad *a priori* de que $X$ pertenezca a la clase *j*, y se **asume conocida** la distribución condicional de cada observable dado su clase $f_j \\doteq f_{X|G=j}$.\n",
    "\n",
    "De esta manera dicha probabilidad *a posteriori* resulta\n",
    "$$\n",
    "P(G|_{X=x} = j) = \\frac{f_{X|G=j}(x) \\cdot p_G(j)}{f_X(x)} \\propto f_j(x) \\cdot \\pi_j\n",
    "$$\n",
    "\n",
    "La regla de decisión de Bayes es entonces\n",
    "$$\n",
    "H(x) \\doteq \\arg \\max_{g \\in \\mathcal{G}} \\{ P(G|_{X=x} = j) \\} = \\arg \\max_{g \\in \\mathcal{G}} \\{ f_j(x) \\cdot \\pi_j \\}\n",
    "$$\n",
    "\n",
    "es decir, se predice a $x$ como perteneciente a la población $j$ cuya probabilidad a posteriori es máxima.\n",
    "\n",
    "*Ojo, a no desesperar! $\\pi_j$ no es otra cosa que una constante prefijada, y $f_j$ es, en su esencia, un campo escalar de $x$ a simplemente evaluar.*\n",
    "\n",
    "### Distribución condicional\n",
    "\n",
    "Para los clasificadores de discriminante cuadrático y lineal (QDA/LDA) se asume que $X|_{G=j} \\sim \\mathcal{N}_p(\\mu_j, \\Sigma_j)$, es decir, se asume que cada población sigue una distribución normal.\n",
    "\n",
    "Por definición, se tiene entonces que para una clase $j$:\n",
    "$$\n",
    "f_j(x) = \\frac{1}{(2 \\pi)^\\frac{p}{2} \\cdot |\\Sigma_j|^\\frac{1}{2}} e^{- \\frac{1}{2}(x-\\mu_j)^T \\Sigma_j^{-1} (x- \\mu_j)}\n",
    "$$\n",
    "\n",
    "Aplicando logaritmo (que al ser una función estrictamente creciente no afecta el cálculo de máximos/mínimos), queda algo mucho más práctico de trabajar:\n",
    "\n",
    "$$\n",
    "\\log{f_j(x)} = -\\frac{1}{2}\\log |\\Sigma_j| - \\frac{1}{2} (x-\\mu_j)^T \\Sigma_j^{-1} (x- \\mu_j) + C\n",
    "$$\n",
    "\n",
    "Observar que en este caso $C=-\\frac{p}{2} \\log(2\\pi)$, pero no se tiene en cuenta ya que al tener una constante aditiva en todas las clases, no afecta al cálculo del máximo.\n",
    "\n",
    "### LDA\n",
    "\n",
    "En el caso de LDA se hace una suposición extra, que es $X|_{G=j} \\sim \\mathcal{N}_p(\\mu_j, \\Sigma)$, es decir que las poblaciones no sólo siguen una distribución normal sino que son de igual matriz de covarianzas. Reemplazando arriba se obtiene entonces:\n",
    "\n",
    "$$\n",
    "\\log{f_j(x)} =  -\\frac{1}{2}\\log |\\Sigma| - \\frac{1}{2} (x-\\mu_j)^T \\Sigma^{-1} (x- \\mu_j) + C\n",
    "$$\n",
    "\n",
    "Ahora, como $-\\frac{1}{2}\\log |\\Sigma|$ es común a todas las clases se puede incorporar a la constante aditiva y, distribuyendo y reagrupando términos sobre $(x-\\mu_j)^T \\Sigma^{-1} (x- \\mu_j)$ se obtiene finalmente:\n",
    "\n",
    "$$\n",
    "\\log{f_j(x)} =  \\mu_j^T \\Sigma^{-1} (x- \\frac{1}{2} \\mu_j) + C'\n",
    "$$\n",
    "\n",
    "### Entrenamiento/Ajuste\n",
    "\n",
    "Obsérvese que para ambos modelos, ajustarlos a los datos implica estimar los parámetros $(\\mu_j, \\Sigma_j) \\; \\forall j = 1, \\dots, k$ en el caso de QDA, y $(\\mu_j, \\Sigma)$ para LDA.\n",
    "\n",
    "Estos parámetros se estiman por máxima verosimilitud, de manera que los estimadores resultan:\n",
    "\n",
    "* $\\hat{\\mu}_j = \\bar{x}_j$ el promedio de los $x$ de la clase *j*\n",
    "* $\\hat{\\Sigma}_j = s^2_j$ la matriz de covarianzas estimada para cada clase *j*\n",
    "* $\\hat{\\pi}_j = f_{R_j} = \\frac{n_j}{n}$ la frecuencia relativa de la clase *j* en la muestra\n",
    "* $\\hat{\\Sigma} = \\frac{1}{n} \\sum_{j=1}^k n_j \\cdot s^2_j$ el promedio ponderado (por frecs. relativas) de las matrices de covarianzas de todas las clases. *Observar que se utiliza el estimador de MV y no el insesgado*\n",
    "\n",
    "Es importante notar que si bien todos los $\\mu, \\Sigma$ deben ser estimados, la distribución *a priori* puede no inferirse de los datos sino asumirse previamente, utilizándose como entrada del modelo.\n",
    "\n",
    "### Predicción\n",
    "\n",
    "Para estos modelos, al igual que para cualquier clasificador Bayesiano del tipo antes visto, la estimación de la clase es por método *plug-in* sobre la regla de decisión $H(x)$, es decir devolver la clase que maximiza $\\hat{f}_j(x) \\cdot \\hat{\\pi}_j$, o lo que es lo mismo $\\log\\hat{f}_j(x) + \\log\\hat{\\pi}_j$."
   ]
  },
  {
   "cell_type": "markdown",
   "metadata": {
    "id": "5TDWOgpJWKQa"
   },
   "source": [
    "## Estructura del código"
   ]
  },
  {
   "cell_type": "markdown",
   "metadata": {
    "id": "6yEV8WbiWl6k"
   },
   "source": [
    "## Modelo"
   ]
  },
  {
   "cell_type": "code",
   "execution_count": 1,
   "metadata": {
    "id": "teF9O9JJmG7Z"
   },
   "outputs": [],
   "source": [
    "import numpy as np\n",
    "from numpy.linalg import det, inv\n",
    "import numpy as np\n",
    "import matplotlib.pyplot as plt\n",
    "import pandas as pd\n",
    "import seaborn as sns\n"
   ]
  },
  {
   "cell_type": "code",
   "execution_count": 2,
   "metadata": {
    "id": "sDBLvbTtlwzs"
   },
   "outputs": [],
   "source": [
    "class ClassEncoder:\n",
    "  def fit(self, y):\n",
    "    self.names = np.unique(y)\n",
    "    self.name_to_class = {name:idx for idx, name in enumerate(self.names)}\n",
    "    self.fmt = y.dtype\n",
    "    # Q1: por que no hace falta definir un class_to_name para el mapeo inverso?\n",
    "\n",
    "  def _map_reshape(self, f, arr):\n",
    "    return np.array([f(elem) for elem in arr.flatten()]).reshape(arr.shape)\n",
    "    # Q2: por que hace falta un reshape?\n",
    "\n",
    "  def transform(self, y):\n",
    "    return self._map_reshape(lambda name: self.name_to_class[name], y)\n",
    "\n",
    "  def fit_transform(self, y):\n",
    "    self.fit(y)\n",
    "    return self.transform(y)\n",
    "\n",
    "  def detransform(self, y_hat):\n",
    "    return self._map_reshape(lambda idx: self.names[idx], y_hat)"
   ]
  },
  {
   "cell_type": "code",
   "execution_count": 3,
   "metadata": {
    "id": "m0KYC8_uSOu4"
   },
   "outputs": [],
   "source": [
    "class BaseBayesianClassifier:\n",
    "  def __init__(self):\n",
    "    self.encoder = ClassEncoder()\n",
    "\n",
    "  def _estimate_a_priori(self, y):\n",
    "    a_priori = np.bincount(y.flatten().astype(int)) / y.size\n",
    "    # Q3: para que sirve bincount?\n",
    "    return np.log(a_priori)\n",
    "\n",
    "  def _fit_params(self, X, y):\n",
    "    # estimate all needed parameters for given model\n",
    "    raise NotImplementedError()\n",
    "\n",
    "  def _predict_log_conditional(self, x, class_idx):\n",
    "    # predict the log(P(x|G=class_idx)), the log of the conditional probability of x given the class\n",
    "    # this should depend on the model used\n",
    "    raise NotImplementedError()\n",
    "\n",
    "  def fit(self, X, y, a_priori=None):\n",
    "    # first encode the classes\n",
    "    y = self.encoder.fit_transform(y)\n",
    "\n",
    "    # if it's needed, estimate a priori probabilities\n",
    "    self.log_a_priori = self._estimate_a_priori(y) if a_priori is None else np.log(a_priori)\n",
    "\n",
    "    # check that a_priori has the correct number of classes\n",
    "    assert len(self.log_a_priori) == len(self.encoder.names), \"A priori probabilities do not match number of classes\"\n",
    "\n",
    "    # now that everything else is in place, estimate all needed parameters for given model\n",
    "    self._fit_params(X, y)\n",
    "    # Q4: por que el _fit_params va al final? no se puede mover a, por ejemplo, antes de la priori?\n",
    "\n",
    "  def predict(self, X):\n",
    "    # this is actually an individual prediction encased in a for-loop\n",
    "    m_obs = X.shape[1]\n",
    "    y_hat = np.empty(m_obs, dtype=self.encoder.fmt)\n",
    "\n",
    "    for i in range(m_obs):\n",
    "      encoded_y_hat_i = self._predict_one(X[:,i].reshape(-1,1))\n",
    "      y_hat[i] = self.encoder.names[encoded_y_hat_i]\n",
    "\n",
    "    # return prediction as a row vector (matching y)\n",
    "    return y_hat.reshape(1,-1)\n",
    "\n",
    "  def _predict_one(self, x):\n",
    "    # calculate all log posteriori probabilities (actually, +C)\n",
    "    log_posteriori = [ log_a_priori_i + self._predict_log_conditional(x, idx) for idx, log_a_priori_i\n",
    "                  in enumerate(self.log_a_priori) ]\n",
    "\n",
    "    # return the class that has maximum a posteriori probability\n",
    "    return np.argmax(log_posteriori)"
   ]
  },
  {
   "cell_type": "code",
   "execution_count": 4,
   "metadata": {
    "id": "IRamFdiGDuSR"
   },
   "outputs": [],
   "source": [
    "class QDA(BaseBayesianClassifier):\n",
    "\n",
    "  def _fit_params(self, X, y):\n",
    "    # estimate each covariance matrix\n",
    "    self.inv_covs = [inv(np.cov(X[:,y.flatten()==idx], bias=True))\n",
    "                      for idx in range(len(self.log_a_priori))]\n",
    "    # Q5: por que hace falta el flatten y no se puede directamente X[:,y==idx]?\n",
    "    # Q6: por que se usa bias=True en vez del default bias=False?\n",
    "    self.means = [X[:,y.flatten()==idx].mean(axis=1, keepdims=True)\n",
    "                  for idx in range(len(self.log_a_priori))]\n",
    "    # Q7: que hace axis=1? por que no axis=0?\n",
    "\n",
    "  def _predict_log_conditional(self, x, class_idx):\n",
    "    # predict the log(P(x|G=class_idx)), the log of the conditional probability of x given the class\n",
    "    # this should depend on the model used\n",
    "    inv_cov = self.inv_covs[class_idx]\n",
    "    unbiased_x =  x - self.means[class_idx]\n",
    "    return 0.5*np.log(det(inv_cov)) -0.5 * unbiased_x.T @ inv_cov @ unbiased_x"
   ]
  },
  {
   "cell_type": "code",
   "execution_count": 5,
   "metadata": {
    "id": "fRtC9HEkO5Hu"
   },
   "outputs": [],
   "source": [
    "class TensorizedQDA(QDA):\n",
    "\n",
    "    def _fit_params(self, X, y):\n",
    "        # ask plain QDA to fit params\n",
    "        super()._fit_params(X,y)\n",
    "\n",
    "        # stack onto new dimension\n",
    "        self.tensor_inv_cov = np.stack(self.inv_covs)\n",
    "        self.tensor_means = np.stack(self.means)\n",
    "\n",
    "    def _predict_log_conditionals(self,x):\n",
    "        unbiased_x = x - self.tensor_means\n",
    "        inner_prod = unbiased_x.transpose(0,2,1) @ self.tensor_inv_cov @ unbiased_x\n",
    "\n",
    "        return 0.5*np.log(det(self.tensor_inv_cov)) - 0.5 * inner_prod.flatten()\n",
    "\n",
    "    def _predict_one(self, x):\n",
    "        # return the class that has maximum a posteriori probability\n",
    "        return np.argmax(self.log_a_priori + self._predict_log_conditionals(x))"
   ]
  },
  {
   "cell_type": "markdown",
   "metadata": {
    "id": "KS_zoK-gWkRf"
   },
   "source": [
    "## Código para pruebas"
   ]
  },
  {
   "cell_type": "markdown",
   "metadata": {
    "id": "nz19b6NJed2A"
   },
   "source": [
    "Seteamos los datos"
   ]
  },
  {
   "cell_type": "code",
   "execution_count": 6,
   "metadata": {
    "id": "m05KrhUDINVs"
   },
   "outputs": [],
   "source": [
    "# hiperparámetros\n",
    "rng_seed = 6543"
   ]
  },
  {
   "cell_type": "code",
   "execution_count": 7,
   "metadata": {
    "colab": {
     "base_uri": "https://localhost:8080/"
    },
    "id": "2hkXcoldXOqs",
    "outputId": "2ce8d627-3433-4bdd-d370-85f6b703a7b9"
   },
   "outputs": [
    {
     "name": "stdout",
     "output_type": "stream",
     "text": [
      "X: (150, 4), Y:(150, 1)\n"
     ]
    }
   ],
   "source": [
    "from sklearn.datasets import load_iris, fetch_openml\n",
    "\n",
    "def get_iris_dataset():\n",
    "  data = load_iris()\n",
    "  X_full = data.data\n",
    "  y_full = np.array([data.target_names[y] for y in data.target.reshape(-1,1)])\n",
    "  return X_full, y_full\n",
    "\n",
    "def get_penguins():\n",
    "    # get data\n",
    "    df, tgt = fetch_openml(name=\"penguins\", return_X_y=True, as_frame=True, parser='auto')\n",
    "\n",
    "    # drop non-numeric columns\n",
    "    df.drop(columns=[\"island\",\"sex\"], inplace=True)\n",
    "\n",
    "    # drop rows with missing values\n",
    "    mask = df.isna().sum(axis=1) == 0\n",
    "    df = df[mask]\n",
    "    tgt = tgt[mask]\n",
    "\n",
    "    return df.values, tgt.to_numpy().reshape(-1,1)\n",
    "\n",
    "# showing for iris\n",
    "X_full, y_full = get_iris_dataset()\n",
    "\n",
    "print(f\"X: {X_full.shape}, Y:{y_full.shape}\")"
   ]
  },
  {
   "cell_type": "code",
   "execution_count": 8,
   "metadata": {
    "colab": {
     "base_uri": "https://localhost:8080/"
    },
    "id": "jAk-UQCjKecT",
    "outputId": "9566d67a-b78b-4809-bb94-8f605b065db6"
   },
   "outputs": [
    {
     "data": {
      "text/plain": [
       "array([[5.1, 3.5, 1.4, 0.2],\n",
       "       [4.9, 3. , 1.4, 0.2],\n",
       "       [4.7, 3.2, 1.3, 0.2],\n",
       "       [4.6, 3.1, 1.5, 0.2],\n",
       "       [5. , 3.6, 1.4, 0.2]])"
      ]
     },
     "execution_count": 8,
     "metadata": {},
     "output_type": "execute_result"
    }
   ],
   "source": [
    "# peek data matrix\n",
    "X_full[:5]"
   ]
  },
  {
   "cell_type": "code",
   "execution_count": 9,
   "metadata": {
    "colab": {
     "base_uri": "https://localhost:8080/"
    },
    "id": "YdzMURX2KVdO",
    "outputId": "af5fc3ac-b391-4769-de47-44cea4f566c8"
   },
   "outputs": [
    {
     "data": {
      "text/plain": [
       "array([['setosa'],\n",
       "       ['setosa'],\n",
       "       ['setosa'],\n",
       "       ['setosa'],\n",
       "       ['setosa']], dtype='<U10')"
      ]
     },
     "execution_count": 9,
     "metadata": {},
     "output_type": "execute_result"
    }
   ],
   "source": [
    "# peek target vector\n",
    "y_full[:5]"
   ]
  },
  {
   "cell_type": "markdown",
   "metadata": {
    "id": "Kl8UFh1OegbJ"
   },
   "source": [
    "Separamos el dataset en train y test para medir performance"
   ]
  },
  {
   "cell_type": "code",
   "execution_count": 10,
   "metadata": {
    "colab": {
     "base_uri": "https://localhost:8080/"
    },
    "id": "LKP_QmWCIECs",
    "outputId": "07798c6a-aa54-430e-d46d-becc2a4315ed"
   },
   "outputs": [
    {
     "name": "stdout",
     "output_type": "stream",
     "text": [
      "(4, 90) (1, 90) (4, 60) (1, 60)\n"
     ]
    }
   ],
   "source": [
    "# preparing data, train - test validation\n",
    "# 70-30 split\n",
    "from sklearn.model_selection import train_test_split\n",
    "\n",
    "def split_transpose(X, y, test_sz=0.4, random_state=6543):\n",
    "    # split\n",
    "    X_train, X_test, y_train, y_test = train_test_split(X, y, test_size=test_sz, random_state=random_state)\n",
    "\n",
    "    # transpose so observations are column vectors\n",
    "    return X_train.T, y_train.T, X_test.T, y_test.T\n",
    "\n",
    "def accuracy(y_true, y_pred):\n",
    "  return (y_true == y_pred).mean()\n",
    "\n",
    "train_x, train_y, test_x, test_y = split_transpose(X_full, y_full, 0.4, rng_seed)\n",
    "\n",
    "print(train_x.shape, train_y.shape, test_x.shape, test_y.shape)"
   ]
  },
  {
   "cell_type": "markdown",
   "metadata": {
    "id": "LwgXFPbJemb_"
   },
   "source": [
    "Entrenamos un QDA y medimos su accuracy"
   ]
  },
  {
   "cell_type": "code",
   "execution_count": 11,
   "metadata": {
    "id": "dGIf2TA5SpoT"
   },
   "outputs": [],
   "source": [
    "qda = QDA()\n",
    "\n",
    "qda.fit(train_x, train_y)"
   ]
  },
  {
   "cell_type": "code",
   "execution_count": 12,
   "metadata": {
    "colab": {
     "base_uri": "https://localhost:8080/"
    },
    "id": "c0Q30DyLWpTL",
    "outputId": "dbccae86-840c-412f-ed97-22cfac21238a"
   },
   "outputs": [
    {
     "name": "stdout",
     "output_type": "stream",
     "text": [
      "Train (apparent) error is 0.0111 while test error is 0.0167\n"
     ]
    }
   ],
   "source": [
    "train_acc = accuracy(train_y, qda.predict(train_x))\n",
    "test_acc = accuracy(test_y, qda.predict(test_x))\n",
    "print(f\"Train (apparent) error is {1-train_acc:.4f} while test error is {1-test_acc:.4f}\")"
   ]
  },
  {
   "cell_type": "markdown",
   "metadata": {
    "id": "-QcLtNNIevC_"
   },
   "source": [
    "Con el magic %%timeit podemos estimar el tiempo que tarda en correr una celda en base a varias ejecuciones. Por poner un ejemplo, acá vamos a estimar lo que tarda un ciclo completo de QDA y también su inferencia (predicción).\n",
    "\n",
    "Ojo! a veces [puede ser necesario ejecutarlo varias veces](https://stackoverflow.com/questions/10994405/python-timeit-results-cached-instead-of-calculated) para obtener resultados consistentes.\n",
    "\n",
    "Si quieren explorar otros métodos de medición también es válido!"
   ]
  },
  {
   "cell_type": "code",
   "execution_count": 13,
   "metadata": {
    "colab": {
     "base_uri": "https://localhost:8080/"
    },
    "id": "vnZT-HN2fUuW",
    "outputId": "2618e7c1-7a77-4285-bafb-c2880ad167a1"
   },
   "outputs": [
    {
     "name": "stdout",
     "output_type": "stream",
     "text": [
      "2.05 ms ± 8.88 µs per loop (mean ± std. dev. of 7 runs, 100 loops each)\n"
     ]
    }
   ],
   "source": [
    "%%timeit\n",
    "\n",
    "qda.predict(test_x)"
   ]
  },
  {
   "cell_type": "code",
   "execution_count": 14,
   "metadata": {
    "colab": {
     "base_uri": "https://localhost:8080/"
    },
    "id": "kjFbVSqfeHUX",
    "outputId": "0254a727-a1d5-4be3-b73a-2f55d2c84a25"
   },
   "outputs": [
    {
     "name": "stdout",
     "output_type": "stream",
     "text": [
      "2.66 ms ± 51.8 µs per loop (mean ± std. dev. of 7 runs, 100 loops each)\n"
     ]
    }
   ],
   "source": [
    "%%timeit\n",
    "\n",
    "model = QDA()\n",
    "model.fit(train_x, train_y)\n",
    "model.predict(test_x)"
   ]
  },
  {
   "cell_type": "markdown",
   "metadata": {
    "id": "BsDYvwFEEKV5"
   },
   "source": [
    "# Consigna\n"
   ]
  },
  {
   "cell_type": "markdown",
   "metadata": {
    "id": "1Yb1V7_yXRfO"
   },
   "source": [
    "## Implementación base\n",
    "1. Entrenar un modelo QDA sobre el dataset *iris* utilizando las distribuciones *a priori* a continuación ¿Se observan diferencias?¿Por qué cree? _Pista: comparar con las distribuciones del dataset completo, **sin splitear**_.\n",
    "    1. Uniforme (cada clase tiene probabilidad 1/3)\n",
    "    2. Una clase con probabilidad 0.9, las demás 0.05 (probar las 3 combinaciones)\n",
    "2. Repetir el punto anterior para el dataset *penguin*.\n",
    "3. Implementar el modelo LDA, entrenarlo y testearlo contra los mismos sets que QDA (no múltiples prioris) ¿Se observan diferencias? ¿Podría decirse que alguno de los dos es notoriamente mejor que el otro?\n",
    "4. Utilizar otros 2 (dos) valores de *random seed* para obtener distintos splits de train y test, y repetir la comparación del punto anterior ¿Las conclusiones previas se mantienen?\n",
    "5. Estimar y comparar los tiempos de predicción de las clases `QDA` y `TensorizedQDA`. De haber diferencias ¿Cuáles pueden ser las causas?\n",
    "\n",
    "\n",
    "**Sugerencia:** puede resultar de utilidad para cada inciso de comparación utilizar tablas del siguiente estilo:\n",
    "\n",
    "<center>\n",
    "\n",
    "Modelo | Dataset | Seed | Error (train) | Error (test)\n",
    ":---: | :---: | :---: | :---: | :---:\n",
    "QDA | Iris | 125 | 0.55 | 0.85\n",
    "LDA | Iris | 125 | 0.22 | 0.8\n",
    "\n",
    "</center>\n"
   ]
  },
  {
   "cell_type": "markdown",
   "metadata": {
    "id": "7M32U5xI-gIv"
   },
   "source": [
    "## Optimización matemática\n",
    "\n",
    "**Sugerencia:** considerar combinaciones adecuadas de `transpose`, `reshape` y, ocasionalmente, `flatten`. Explorar la dimensionalidad de cada elemento antes de implementar las clases.\n",
    "\n",
    "### QDA\n",
    "\n",
    "Debido a la forma cuadrática de QDA, no se puede predecir para *n* observaciones en una sola pasada (utilizar $X \\in \\mathbb{R}^{p \\times n}$ en vez de $x \\in \\mathbb{R}^p$) sin pasar por una matriz de *n x n* en donde se computan todas las interacciones entre observaciones. Se puede acceder al resultado recuperando sólo la diagonal de dicha matriz, pero resulta ineficiente en tiempo y (especialmente) en memoria. Aún así, es *posible* que el modelo funcione más rápido.\n",
    "\n",
    "1. Implementar el modelo `FasterQDA` (se recomienda heredarlo de TensorizedQDA) de manera de eliminar el ciclo for en el método predict.\n",
    "2. Comparar los tiempos de predicción de `FasterQDA` con `TensorizedQDA` y `QDA`.\n",
    "3. Mostrar (puede ser con un print) dónde aparece la mencionada matriz de *n x n*, donde *n* es la cantidad de observaciones a predecir.\n",
    "4. Demostrar que\n",
    "$$\n",
    "diag(A \\cdot B) = \\sum_{cols} A \\odot B^T = np.sum(A \\odot B^T, axis=1)\n",
    "$$ es decir, que se puede \"esquivar\" la matriz de *n x n* usando matrices de *n x p*.\n",
    "5. Utilizar la propiedad antes demostrada para reimplementar la predicción del modelo `FasterQDA` de forma eficiente. ¿Hay cambios en los tiempos de predicción?\n",
    "\n",
    "\n",
    "### LDA\n",
    "\n",
    "1. \"Tensorizar\" el modelo LDA y comparar sus tiempos de predicción con el modelo antes implementado. *Notar que, en modo tensorizado, se puede directamente precomputar $\\mu^T \\cdot \\Sigma^{-1} \\in \\mathbb{R}^{k \\times 1 \\times p}$ y guardar eso en vez de $\\Sigma^{-1}$.*\n",
    "2. LDA no sufre del problema antes descrito de QDA debido a que no computa productos internos, por lo que no tiene un verdadero costo extra en memoria predecir \"en batch\". Implementar el modelo `FasterLDA` y comparar sus tiempos de predicción con las versiones anteriores de LDA."
   ]
  },
  {
   "cell_type": "markdown",
   "metadata": {
    "id": "U7oPeQ0z-pux"
   },
   "source": [
    "## Preguntas teóricas\n",
    "\n",
    "1. En LDA se menciona que la función a maximizar puede ser, mediante operaciones, convertida en:\n",
    "$$ \\log{f_j(x)} =  \\mu_j^T \\Sigma^{-1} (x- \\frac{1}{2} \\mu_j) + C' $$ \n",
    "Mostrar los pasos por los cuales se llega a dicha expresión.\n",
    "\n",
    "2. Explicar, utilizando las respectivas funciones a maximizar, por qué QDA y LDA son \"quadratic\" y \"linear\".\n",
    "3. La implementación de QDA estima la probabilidad condicional utilizando `0.5*np.log(det(inv_cov)) -0.5 * unbiased_x.T @ inv_cov @ unbiased_x` que no es *exactamente* lo descrito en el apartado teórico ¿Cuáles son las diferencias y por qué son expresiones equivalentes?\n",
    "\n",
    "El espíritu de esta componente práctica es la de establecer un mínimo de trabajo aceptable para su entrega; se invita al alumno a explorar otros aspectos que generen curiosidad, sin sentirse de ninguna manera limitado por la consigna."
   ]
  },
  {
   "cell_type": "markdown",
   "metadata": {
    "id": "CpOoxE2d-mOY"
   },
   "source": [
    "## Ejercicio teórico\n",
    "\n",
    "Sea una red neuronal de dos capas, la primera de 3 neuronas y la segunda de 1 con los parámetros inicializados con los siguientes valores:\n",
    "$$\n",
    "w^{(1)} =\n",
    "\\begin{pmatrix}\n",
    "0.1 & -0.5 \\\\\n",
    "-0.3 & -0.9 \\\\\n",
    "0.8 & 0.02\n",
    "\\end{pmatrix},\n",
    "b^{(1)} = \\begin{pmatrix}\n",
    "0.1 \\\\\n",
    "0.5 \\\\\n",
    "0.8\n",
    "\\end{pmatrix},\n",
    "w^{(2)} =\n",
    "\\begin{pmatrix}\n",
    "-0.4 & 0.2 & -0.5\n",
    "\\end{pmatrix},\n",
    "b^{(2)} = 0.7\n",
    "$$\n",
    "\n",
    "y donde cada capa calcula su salida vía\n",
    "\n",
    "$$\n",
    "y^{(i)} = \\sigma (w^{(i)} \\cdot x^{(i)}+b^{(i)})\n",
    "$$\n",
    "\n",
    "donde $\\sigma (z) = \\frac{1}{1+e^{-z}}$ es la función sigmoidea .\n",
    "\n",
    "\\\\\n",
    "Dada la observación $x=\\begin{pmatrix}\n",
    "1.8 \\\\\n",
    "-3.4\n",
    "\\end{pmatrix}$, $y=5$ y la función de costo $J(\\theta)=\\frac{1}{2}(\\hat{y}_\\theta-y)^2$, calcular las derivadas de J respecto de cada parámetro $w^{(1)}$, $w^{(2)}$, $b^{(1)}$, $b^{(2)}$.\n",
    "\n",
    "*Nota: Con una sigmoidea a la salida jamás va a poder estimar el 5 \"pedido\", pero eso no afecta al mecanismo de backpropagation!*"
   ]
  },
  {
   "cell_type": "markdown",
   "metadata": {
    "id": "z-CNlW06-i-u"
   },
   "source": [
    "## Preguntas en el código\n",
    "Previamente las preguntas \"técnicas\" en comentarios en el código eran parte del TP, y buscaban que el alumno logre entrar en el detalle de por qué cada linea de código es como es y en el orden en el que está. Ya no forman parte de la consigna, pero se aconseja al alumno intentar responderlas. Las respuestas a las mismas se encuentran en un archivo separado."
   ]
  },
  {
   "cell_type": "markdown",
   "metadata": {},
   "source": [
    "# Resolución TP Final"
   ]
  },
  {
   "cell_type": "markdown",
   "metadata": {},
   "source": [
    "## Implementación base"
   ]
  },
  {
   "cell_type": "markdown",
   "metadata": {},
   "source": [
    "### 1. Entrenar un modelo QDA sobre el dataset *iris* utilizando las distribuciones *a priori* a continuación ¿Se observan diferencias?¿Por qué cree? \n",
    "Pista: comparar con las distribuciones del dataset completo, **sin splitear**.\n",
    "1. Uniforme (cada clase tiene probabilidad 1/3)\n",
    "2. Una clase con probabilidad 0.9, las demás 0.05 (probar las 3 combinaciones)\n",
    "\n",
    "**Modelos**\n",
    "\n",
    "- Modelo 1 | Dist. previa ( $\\frac{1}{3}$ Setosa, $\\frac{1}{3}$ Versicolor, $\\frac{1}{3}$ Virginica)\n",
    "- Modelo 2 | Dist. previa (**0.90 Setosa**, 0.05 Versicolor, 0.05 Virginica) \n",
    "- Modelo 3 | Dist. previa (0.05 Setosa, **0.90 Versicolor**, 0.05 Virginica)\n",
    "- Modelo 4 | Dist. previa (0.05 Setosa, 0.05 Versicolor, **0.90 Virginica**)"
   ]
  },
  {
   "cell_type": "code",
   "execution_count": 15,
   "metadata": {},
   "outputs": [
    {
     "name": "stdout",
     "output_type": "stream",
     "text": [
      "\n",
      " Target (y) (Iris) Dim.:(150, 1)\n",
      "['setosa' 'versicolor' 'virginica'] \n",
      "\n",
      "[['setosa']\n",
      " ['setosa']\n",
      " ['setosa']\n",
      " ['setosa']\n",
      " ['setosa']]\n",
      "\n",
      " Features (X) (Iris) Dim.:(150, 4)\n",
      "['sepal length (cm)', 'sepal width (cm)', 'petal length (cm)', 'petal width (cm)'] \n",
      "\n",
      "[[5.1 3.5 1.4 0.2]\n",
      " [4.9 3.  1.4 0.2]\n",
      " [4.7 3.2 1.3 0.2]\n",
      " [4.6 3.1 1.5 0.2]\n",
      " [5.  3.6 1.4 0.2]]\n"
     ]
    },
    {
     "data": {
      "image/png": "[encoded data removed]",
      "text/plain": [
       "<Figure size 500x300 with 1 Axes>"
      ]
     },
     "metadata": {},
     "output_type": "display_data"
    },
    {
     "data": {
      "image/png": "[encoded data removed]",
      "text/plain": [
       "<Figure size 800x500 with 4 Axes>"
      ]
     },
     "metadata": {},
     "output_type": "display_data"
    }
   ],
   "source": [
    "# ---------------- Carga | exploración de datos ----------------\n",
    "\n",
    "names = load_iris().feature_names\n",
    "X_full, y_full = get_iris_dataset()\n",
    "\n",
    "# ---------------- Información del dataset ----------------\n",
    "\n",
    "print(f'\\n Target (y) (Iris) Dim.:{ y_full.shape}'); print(f'{np.unique(y_full)} \\n') ;print(y_full[:5,])  \n",
    "print(f'\\n Features (X) (Iris) Dim.:{ X_full.shape}'); print(f'{names} \\n') ;print(X_full[:5,])  \n",
    "\n",
    "# ---------------- Gráficos ----------------\n",
    "\n",
    "df_iris = pd.DataFrame(X_full, columns=load_iris().feature_names)\n",
    "df_iris['species'] = y_full.flatten()\n",
    "\n",
    "plt.figure(figsize=(5, 3))\n",
    "sns.countplot(data=df_iris, x='species', palette='viridis' , hue='species')\n",
    "plt.title('Distribución de especies')\n",
    "plt.xlabel('Especie')\n",
    "plt.ylabel('Frec.')\n",
    "plt.show()\n",
    "\n",
    "features = load_iris().feature_names\n",
    "classes = df_iris['species'].unique()\n",
    "    \n",
    "plt.figure(figsize=(8, 5))\n",
    "    \n",
    "for i, feature in enumerate(features):\n",
    "    plt.subplot(2, 2, i + 1)\n",
    "    for cls in classes:\n",
    "        subset = df_iris[df_iris['species'] == cls]\n",
    "        sns.kdeplot(subset[feature], label=cls, fill=True, alpha=0.6)\n",
    "    plt.title(f'Densidad de {feature}')\n",
    "    plt.xlabel(feature)\n",
    "    plt.ylabel('Densidad')\n",
    "    plt.legend()\n",
    "\n",
    "plt.tight_layout()    \n",
    "plt.show()\n"
   ]
  },
  {
   "cell_type": "code",
   "execution_count": 16,
   "metadata": {},
   "outputs": [
    {
     "name": "stdout",
     "output_type": "stream",
     "text": [
      "(4, 105) (1, 105) (4, 45) (1, 45)\n",
      "(array(['setosa', 'versicolor', 'virginica'], dtype='<U10'), array([31, 37, 37], dtype=int64))\n",
      "(array(['setosa', 'versicolor', 'virginica'], dtype='<U10'), array([19, 13, 13], dtype=int64))\n"
     ]
    }
   ],
   "source": [
    "# ---------------- Split datos entrenamiento (70%) | testeo (30%) ----------------\n",
    "\n",
    "rng_seed = 42\n",
    "train_x, train_y, test_x, test_y = split_transpose(X_full, y_full, 0.3, rng_seed)\n",
    "print(train_x.shape, train_y.shape, test_x.shape, test_y.shape)\n",
    "\n",
    "print(np.unique(train_y, return_counts=True))\n",
    "print(np.unique(test_y, return_counts=True))"
   ]
  },
  {
   "cell_type": "markdown",
   "metadata": {},
   "source": [
    "**Resumen de muestras de entrenamiento | test Iris**\n",
    "\n",
    "Muestra | Setosa | Versicolor | Virginica\n",
    ":---: | :---: | :---: | :---: \n",
    "Train | 31 | 37 | 37\n",
    "Test | 19 | 13 | 13\n"
   ]
  },
  {
   "cell_type": "code",
   "execution_count": 17,
   "metadata": {},
   "outputs": [
    {
     "name": "stdout",
     "output_type": "stream",
     "text": [
      "Error de entrenamiento en modelo 1 es 0.0190, mientras que error en testeo es 0.0000\n",
      "Prior: [0.3333333333333333, 0.3333333333333333, 0.3333333333333333]\n",
      "\n",
      "Error de entrenamiento en modelo 2 es 0.0190, mientras que error en testeo es 0.0000\n",
      "Prior: [0.9, 0.05, 0.05]\n",
      "\n",
      "Error de entrenamiento en modelo 3 es 0.0476, mientras que error en testeo es 0.0222\n",
      "Prior: [0.05, 0.9, 0.05]\n",
      "\n",
      "Error de entrenamiento en modelo 4 es 0.0381, mientras que error en testeo es 0.0222\n",
      "Prior: [0.05, 0.05, 0.9]\n",
      "\n"
     ]
    }
   ],
   "source": [
    "# ---------------- Entrenamiento de los modelos ----------------\n",
    "\n",
    "priors = [[1/3, 1/3, 1/3], [0.90, 0.05, 0.05], [0.05, 0.90, 0.05], [0.05, 0.05, 0.90]]\n",
    "\n",
    "for i, a_priori in enumerate(priors, 1):\n",
    "    qda_iris = QDA()\n",
    "    qda_iris.fit(train_x, train_y, a_priori=a_priori)\n",
    "    \n",
    "    # Predicciones en conjunto de entrenamiento\n",
    "    pred_train = qda_iris.predict(train_x)\n",
    "    train_error = 1 - accuracy(train_y, pred_train)\n",
    "    \n",
    "    # Predicciones en conjunto de testeo\n",
    "    pred_test = qda_iris.predict(test_x)\n",
    "    test_error = 1 - accuracy(test_y, pred_test)\n",
    "    \n",
    "    print(f\"Error de entrenamiento en modelo {i} es {train_error:.4f}, mientras que error en testeo es {test_error:.4f}\")\n",
    "    print(f'Prior: {a_priori}\\n')"
   ]
  },
  {
   "cell_type": "markdown",
   "metadata": {},
   "source": [
    "**Resumen de modelos para Iris**\n",
    "\n",
    "Modelo | Dataset | Seed | Priors |Error (train) | Error (test)\n",
    ":---: | :---: | :---: | :---: | :---: | :---:\n",
    "QDA | Iris | 42 | [1/3, 1/3, 1/3] | 0.0190 | 0.000\n",
    "QDA | Iris | 42 | [**0.90**, 0.05, 0.05] | 0.0190 | 0.000\n",
    "QDA | Iris | 42 | [0.05, **0.90**, 0.05] | 0.0476 | 0.0222\n",
    "QDA | Iris | 42 | [0.05, 0.05, **0.90**] | 0.0381 | 0.0222\n"
   ]
  },
  {
   "cell_type": "markdown",
   "metadata": {},
   "source": [
    " Los priors asignados, que reflejan mejor la verdadera distribución de clases (modelo 1 y 2), tienden a presentar menores errores en ambos conjuntos. El hecho que los datos dentro del dataset (original) estén balanceados, favorece el caso del modelo 1 (donde se asigna una distribución previa de los datos *uniforme*)."
   ]
  },
  {
   "cell_type": "markdown",
   "metadata": {},
   "source": [
    "### 2. Repetir el punto anterior para el dataset *penguin*."
   ]
  },
  {
   "cell_type": "code",
   "execution_count": 18,
   "metadata": {},
   "outputs": [
    {
     "name": "stdout",
     "output_type": "stream",
     "text": [
      "\n",
      " Target (y) (Penguin) Dim.:(342, 1)\n",
      "['Adelie' 'Chinstrap' 'Gentoo'] \n",
      "\n",
      "[['Adelie']\n",
      " ['Adelie']\n",
      " ['Adelie']\n",
      " ['Adelie']\n",
      " ['Adelie']]\n",
      "\n",
      " Features (X) (Penguin) Dim.:(342, 4)\n",
      "['culmen_length_mm', 'culmen_depth_mm', 'flipper_length_mm', 'body_mass_g'] \n",
      "\n",
      "[[  39.1   18.7  181.  3750. ]\n",
      " [  39.5   17.4  186.  3800. ]\n",
      " [  40.3   18.   195.  3250. ]\n",
      " [  36.7   19.3  193.  3450. ]\n",
      " [  39.3   20.6  190.  3650. ]]\n"
     ]
    },
    {
     "data": {
      "image/png": "[encoded data removed]",
      "text/plain": [
       "<Figure size 500x300 with 1 Axes>"
      ]
     },
     "metadata": {},
     "output_type": "display_data"
    },
    {
     "data": {
      "image/png": "[encoded data removed]",
      "text/plain": [
       "<Figure size 800x500 with 4 Axes>"
      ]
     },
     "metadata": {},
     "output_type": "display_data"
    }
   ],
   "source": [
    "# ---------------- Carga | exploración de datos ----------------\n",
    "\n",
    "names = ['culmen_length_mm','culmen_depth_mm','flipper_length_mm','body_mass_g']\n",
    "X_fullp, y_fullp = get_penguins()\n",
    "\n",
    "# ---------------- Información del dataset ----------------\n",
    "\n",
    "print(f'\\n Target (y) (Penguin) Dim.:{ y_fullp.shape}'); print(f'{np.unique(y_fullp)} \\n') ;print(y_fullp[:5,])  \n",
    "print(f'\\n Features (X) (Penguin) Dim.:{ X_fullp.shape}'); print(f'{names} \\n') ;print(X_fullp[:5,])  \n",
    "\n",
    "# ---------------- Gráficos ----------------\n",
    "\n",
    "df_peng = pd.DataFrame(X_fullp, columns=names)\n",
    "df_peng['species'] = y_fullp.flatten()\n",
    "\n",
    "plt.figure(figsize=(5, 3))\n",
    "sns.countplot(data=df_peng, x='species', palette='viridis' , hue='species')\n",
    "plt.title('Distribución de especies')\n",
    "plt.xlabel('Especie')\n",
    "plt.ylabel('Frec.')\n",
    "plt.show()\n",
    "\n",
    "features = names\n",
    "classes = df_peng['species'].unique()\n",
    "    \n",
    "plt.figure(figsize=(8, 5))\n",
    "    \n",
    "for i, feature in enumerate(features):\n",
    "    plt.subplot(2, 2, i + 1)\n",
    "    for cls in classes:\n",
    "        subset = df_peng[df_peng['species'] == cls]\n",
    "        sns.kdeplot(subset[feature], label=cls, fill=True, alpha=0.6)\n",
    "    plt.title(f'Densidad de {feature}')\n",
    "    plt.xlabel(feature)\n",
    "    plt.ylabel('Densidad')\n",
    "    plt.legend()\n",
    "\n",
    "plt.tight_layout()    \n",
    "plt.show()"
   ]
  },
  {
   "cell_type": "code",
   "execution_count": 19,
   "metadata": {},
   "outputs": [
    {
     "name": "stdout",
     "output_type": "stream",
     "text": [
      "(4, 239) (1, 239) (4, 103) (1, 103)\n",
      "(array(['Adelie', 'Chinstrap', 'Gentoo'], dtype=object), array([101,  50,  88], dtype=int64))\n",
      "(array(['Adelie', 'Chinstrap', 'Gentoo'], dtype=object), array([50, 18, 35], dtype=int64))\n"
     ]
    }
   ],
   "source": [
    "# ---------------- Split datos entrenamiento (70%) | testeo (30%) ----------------\n",
    "\n",
    "rng_seed = 42\n",
    "train_xp, train_yp, test_xp, test_yp = split_transpose(X_fullp, y_fullp, 0.3, rng_seed)\n",
    "print(train_xp.shape, train_yp.shape, test_xp.shape, test_yp.shape)\n",
    "\n",
    "print(np.unique(train_yp, return_counts=True))\n",
    "print(np.unique(test_yp, return_counts=True))"
   ]
  },
  {
   "cell_type": "markdown",
   "metadata": {},
   "source": [
    "**Resumen de muestras de entrenamiento | test Penguins**\n",
    "\n",
    "Muestra | Adelie | Chinstrap | Gentoo\n",
    ":---: | :---: | :---: | :---: \n",
    "Train | 101 | 50 | 88\n",
    "Test | 50 | 18 | 35\n"
   ]
  },
  {
   "cell_type": "code",
   "execution_count": 20,
   "metadata": {},
   "outputs": [
    {
     "name": "stdout",
     "output_type": "stream",
     "text": [
      "Error de entrenamiento en modelo 1 es 0.0126, mientras que error en testeo es 0.0097\n",
      "Prior: [0.3333333333333333, 0.3333333333333333, 0.3333333333333333]\n",
      "\n",
      "Error de entrenamiento en modelo 2 es 0.0209, mientras que error en testeo es 0.0097\n",
      "Prior: [0.9, 0.05, 0.05]\n",
      "\n",
      "Error de entrenamiento en modelo 3 es 0.0251, mientras que error en testeo es 0.0485\n",
      "Prior: [0.05, 0.9, 0.05]\n",
      "\n",
      "Error de entrenamiento en modelo 4 es 0.0126, mientras que error en testeo es 0.0097\n",
      "Prior: [0.05, 0.05, 0.9]\n",
      "\n"
     ]
    }
   ],
   "source": [
    "# ---------------- Entrenamiento de los modelos ----------------\n",
    "\n",
    "# Distribuciones previas\n",
    "priors = [[1/3, 1/3, 1/3], [0.90, 0.05, 0.05], [0.05, 0.90, 0.05], [0.05, 0.05, 0.90]]\n",
    "\n",
    "for i, a_priori in enumerate(priors, 1):\n",
    "    qda_peng = QDA()\n",
    "    qda_peng.fit(train_xp, train_yp, a_priori=a_priori)\n",
    "    \n",
    "    # Predicciones en conjunto de entrenamiento\n",
    "    pred_train = qda_peng.predict(train_xp); train_error = 1 - accuracy(train_yp, pred_train)\n",
    "    \n",
    "    # Predicciones en conjunto de testeo\n",
    "    pred_test = qda_peng.predict(test_xp); test_error = 1 - accuracy(test_yp, pred_test)\n",
    "    \n",
    "    print(f\"Error de entrenamiento en modelo {i} es {train_error:.4f}, mientras que error en testeo es {test_error:.4f}\")\n",
    "    print(f'Prior: {a_priori}\\n')"
   ]
  },
  {
   "cell_type": "markdown",
   "metadata": {},
   "source": [
    "**Resumen de modelos para Penguin**\n",
    "\n",
    "Modelo | Dataset | Seed | Priors |Error (train) | Error (test)\n",
    ":---: | :---: | :---: | :---: | :---: | :---:\n",
    "QDA | Penguin | 42 | [1/3, 1/3, 1/3] | 0.0126 | 0.0097\n",
    "QDA | Penguin | 42 | [**0.90**, 0.05, 0.05] | 0.0209 | 0.0097\n",
    "QDA | Penguin | 42 | [0.05, **0.90**, 0.05] | 0.0251 | 0.0485\n",
    "QDA | Penguin | 42 | [0.05, 0.05, **0.90**] | 0.0126 | 0.0097\n",
    "\n",
    "El modelo que presenta mayor error (tanto de entrenamiento, como de testeo), es el que le asigna una probabilidad previa más alta a la clase *chinstrap specie*, seguramente porque le asigna una probabilidad mayor al dato menos frecuente (de acuerdo distribución de las especies)."
   ]
  },
  {
   "cell_type": "markdown",
   "metadata": {},
   "source": [
    "### 3. Implementar el modelo LDA, entrenarlo y testearlo contra los mismos sets que QDA (no múltiples prioris) ¿Se observan diferencias? ¿Podría decirse que alguno de los dos es notoriamente mejor que el otro?"
   ]
  },
  {
   "cell_type": "code",
   "execution_count": 21,
   "metadata": {},
   "outputs": [],
   "source": [
    "class LDA(BaseBayesianClassifier):\n",
    "\n",
    "    def _fit_params(self, X, y):\n",
    "        cov_matrix = np.cov(X, bias=True) # Se cambia la matriz de covarianzas en QDA, por matriz única\n",
    "        \n",
    "        # Inversa de la matriz de covarianza\n",
    "        self.inv_shared_cov = inv(cov_matrix) \n",
    "\n",
    "        # Calcular las medias por clase\n",
    "        self.means = [X[:,y.flatten()==idx].mean(axis=1, keepdims=True)\n",
    "                      for idx in range(len(self.log_a_priori))]\n",
    "        \n",
    "    def _predict_log_conditional(self, x, class_idx):\n",
    "        # Predecir el logaritmo de P(x|G=class_idx)\n",
    "        unbiased_x =  x - self.means[class_idx]\n",
    "        return -0.5 * unbiased_x.T @ self.inv_shared_cov @ unbiased_x"
   ]
  },
  {
   "cell_type": "code",
   "execution_count": 22,
   "metadata": {},
   "outputs": [
    {
     "name": "stdout",
     "output_type": "stream",
     "text": [
      "(4, 105) (1, 105) (4, 45) (1, 45)\n",
      "Error de entrenamiento en modelo QDA es 0.0190, mientras que error en testeo es 0.0000\n",
      "Error de entrenamiento en modelo LDA es 0.1524, mientras que error en testeo es 0.1556\n"
     ]
    }
   ],
   "source": [
    "# ---------------- Split datos entrenamiento (70%) | testeo (30%) ----------------\n",
    "\n",
    "rng_seed = 42\n",
    "train_x, train_y, test_x, test_y = split_transpose(X_full, y_full, 0.3, rng_seed)\n",
    "print(train_x.shape, train_y.shape, test_x.shape, test_y.shape)\n",
    "\n",
    "\n",
    "# ---------------- QDA Iris ----------------\n",
    "\n",
    "qda_iris = QDA()\n",
    "qda_iris.fit(train_x, train_y)\n",
    "    \n",
    "# Predicciones en conjunto de entrenamiento\n",
    "pred_train = qda_iris.predict(train_x); train_error = 1 - accuracy(train_y, pred_train)\n",
    "    \n",
    "# Predicciones en conjunto de testeo\n",
    "pred_test = qda_iris.predict(test_x); test_error = 1 - accuracy(test_y, pred_test)\n",
    "    \n",
    "print(f\"Error de entrenamiento en modelo QDA es {train_error:.4f}, mientras que error en testeo es {test_error:.4f}\")\n",
    "\n",
    "\n",
    "# ---------------- LDA Iris ----------------\n",
    "\n",
    "lda_iris = LDA()\n",
    "lda_iris.fit(train_x, train_y)\n",
    "    \n",
    "# Predicciones en conjunto de entrenamiento\n",
    "pred_train = lda_iris.predict(train_x); train_error = 1 - accuracy(train_y, pred_train)\n",
    "    \n",
    "# Predicciones en conjunto de testeo\n",
    "pred_test = lda_iris.predict(test_x); test_error = 1 - accuracy(test_y, pred_test)\n",
    "    \n",
    "print(f\"Error de entrenamiento en modelo LDA es {train_error:.4f}, mientras que error en testeo es {test_error:.4f}\")"
   ]
  },
  {
   "cell_type": "markdown",
   "metadata": {},
   "source": [
    "**Resultados QDA | LDA en dataset \"Iris\"**\n",
    "\n",
    "Modelo | Dataset | Seed | Error (train) | Error (test)\n",
    ":---: | :---: | :---: |  :---: | :---:\n",
    "QDA | Iris | 42 |  0.0190 | 0.0000\n",
    "LDA | Iris | 42 |  0.1524 | 0.1556\n",
    "\n",
    "En el caso del dataset de Iris, se observan diferencias a favor del QDA, dado que (en principio) presenta menor error tanto de entrenamiento como de testeo. Por lo tanto, el flexibilizar la varianza de cada una de las especies clases (que es lo que efectivamente hace QDA), parece ser una mejor opción para adaptarse a los datos (mientras que LDA no parece ni ajusta ni generalizar bien en este caso). "
   ]
  },
  {
   "cell_type": "code",
   "execution_count": 23,
   "metadata": {},
   "outputs": [
    {
     "name": "stdout",
     "output_type": "stream",
     "text": [
      "(4, 239) (1, 239) (4, 103) (1, 103)\n",
      "Error de entrenamiento en modelo QDA es 0.0126, mientras que error en testeo es 0.0097\n",
      "Error de entrenamiento en modelo LDA es 0.0251, mientras que error en testeo es 0.0097\n"
     ]
    }
   ],
   "source": [
    "# ---------------- Split datos entrenamiento (70%) | testeo (30%) ----------------\n",
    "\n",
    "rng_seed = 42\n",
    "train_xp, train_yp, test_xp, test_yp = split_transpose(X_fullp, y_fullp, 0.3, rng_seed)\n",
    "print(train_xp.shape, train_yp.shape, test_xp.shape, test_yp.shape)\n",
    "\n",
    "\n",
    "# ---------------- QDA ----------------\n",
    "\n",
    "qda_peng = QDA()\n",
    "qda_peng.fit(train_xp, train_yp)\n",
    "    \n",
    "# Predicciones en conjunto de entrenamiento\n",
    "pred_train = qda_peng.predict(train_xp); train_error = 1 - accuracy(train_yp, pred_train)\n",
    "    \n",
    "# Predicciones en conjunto de testeo\n",
    "pred_test = qda_peng.predict(test_xp); test_error = 1 - accuracy(test_yp, pred_test)\n",
    "    \n",
    "print(f\"Error de entrenamiento en modelo QDA es {train_error:.4f}, mientras que error en testeo es {test_error:.4f}\")\n",
    "\n",
    "\n",
    "# ---------------- LDA ----------------\n",
    "\n",
    "lda_peng = LDA()\n",
    "lda_peng.fit(train_xp, train_yp)\n",
    "    \n",
    "# Predicciones en conjunto de entrenamiento\n",
    "pred_train = lda_peng.predict(train_xp); train_error = 1 - accuracy(train_yp, pred_train)\n",
    "    \n",
    "# Predicciones en conjunto de testeo\n",
    "pred_test = lda_peng.predict(test_xp); test_error = 1 - accuracy(test_yp, pred_test)\n",
    "    \n",
    "print(f\"Error de entrenamiento en modelo LDA es {train_error:.4f}, mientras que error en testeo es {test_error:.4f}\")"
   ]
  },
  {
   "cell_type": "markdown",
   "metadata": {},
   "source": [
    "**Resultados QDA | LDA en dataset \"Penguins\"**\n",
    "\n",
    "Modelo | Dataset | Seed | Error (train) | Error (test)\n",
    ":---: | :---: | :---: |  :---: | :---:\n",
    "QDA | Penguins | 42 |  0.0126 | 0.0097\n",
    "LDA | Penguins | 42 |  0.0251 | 0.0097\n",
    "\n",
    "En este caso, si bien presenta diferencias de ajuste (errores de entrenamiento), no presenta mayor diferencia en cuanto a la generalización (errores de testeo), al menos para la muestra obtenida."
   ]
  },
  {
   "cell_type": "markdown",
   "metadata": {},
   "source": [
    "### 4. Utilizar otros 2 (dos) valores de *random seed* para obtener distintos splits de train y test, y repetir la comparación del punto anterior ¿Las conclusiones previas se mantienen?"
   ]
  },
  {
   "cell_type": "code",
   "execution_count": 24,
   "metadata": {},
   "outputs": [
    {
     "name": "stdout",
     "output_type": "stream",
     "text": [
      "(4, 105) (1, 105) (4, 45) (1, 45)\n",
      "(array(['setosa', 'versicolor', 'virginica'], dtype='<U10'), array([38, 33, 34], dtype=int64))\n",
      "(array(['setosa', 'versicolor', 'virginica'], dtype='<U10'), array([12, 17, 16], dtype=int64))\n",
      "Error de entrenamiento en modelo QDA, con semilla 1001 es 0.0286, mientras que error en testeo es 0.0000\n",
      "Error de entrenamiento en modelo LDA, con semilla 1001 es 0.1238, mientras que error en testeo es 0.2000\n",
      "(4, 105) (1, 105) (4, 45) (1, 45)\n",
      "(array(['setosa', 'versicolor', 'virginica'], dtype='<U10'), array([40, 30, 35], dtype=int64))\n",
      "(array(['setosa', 'versicolor', 'virginica'], dtype='<U10'), array([10, 20, 15], dtype=int64))\n",
      "Error de entrenamiento en modelo QDA, con semilla 4444 es 0.0381, mientras que error en testeo es 0.0444\n",
      "Error de entrenamiento en modelo LDA, con semilla 4444 es 0.1143, mientras que error en testeo es 0.2667\n"
     ]
    }
   ],
   "source": [
    "# ---------------- Split datos entrenamiento (70%) | testeo (30%) ----------------\n",
    "\n",
    "rng_seed = 1001\n",
    "train_x, train_y, test_x, test_y = split_transpose(X_full, y_full, 0.3, rng_seed)\n",
    "print(train_x.shape, train_y.shape, test_x.shape, test_y.shape)\n",
    "print(np.unique(train_y, return_counts=True))\n",
    "print(np.unique(test_y, return_counts=True))\n",
    "\n",
    "\n",
    "# ---------------- QDA Iris ----------------\n",
    "\n",
    "qda_iris = QDA()\n",
    "qda_iris.fit(train_x, train_y)\n",
    "    \n",
    "# Predicciones en conjunto de entrenamiento\n",
    "pred_train = qda_iris.predict(train_x); train_error = 1 - accuracy(train_y, pred_train)\n",
    "    \n",
    "# Predicciones en conjunto de testeo\n",
    "pred_test = qda_iris.predict(test_x); test_error = 1 - accuracy(test_y, pred_test)\n",
    "    \n",
    "print(f\"Error de entrenamiento en modelo QDA, con semilla {rng_seed} es {train_error:.4f}, mientras que error en testeo es {test_error:.4f}\")\n",
    "\n",
    "\n",
    "# ---------------- LDA Iris ----------------\n",
    "\n",
    "lda_iris = LDA()\n",
    "lda_iris.fit(train_x, train_y)\n",
    "    \n",
    "# Predicciones en conjunto de entrenamiento\n",
    "pred_train = lda_iris.predict(train_x); train_error = 1 - accuracy(train_y, pred_train)\n",
    "    \n",
    "# Predicciones en conjunto de testeo\n",
    "pred_test = lda_iris.predict(test_x); test_error = 1 - accuracy(test_y, pred_test)\n",
    "    \n",
    "print(f\"Error de entrenamiento en modelo LDA, con semilla {rng_seed} es {train_error:.4f}, mientras que error en testeo es {test_error:.4f}\")\n",
    "\n",
    "\n",
    "# ---------------- Split datos entrenamiento (70%) | testeo (30%) ----------------\n",
    "\n",
    "rng_seed = 4444\n",
    "train_x, train_y, test_x, test_y = split_transpose(X_full, y_full, 0.3, rng_seed)\n",
    "print(train_x.shape, train_y.shape, test_x.shape, test_y.shape)\n",
    "print(np.unique(train_y, return_counts=True))\n",
    "print(np.unique(test_y, return_counts=True))\n",
    "\n",
    "\n",
    "# ---------------- QDA Iris ----------------\n",
    "\n",
    "qda_iris = QDA()\n",
    "qda_iris.fit(train_x, train_y)\n",
    "    \n",
    "# Predicciones en conjunto de entrenamiento\n",
    "pred_train = qda_iris.predict(train_x); train_error = 1 - accuracy(train_y, pred_train)\n",
    "    \n",
    "# Predicciones en conjunto de testeo\n",
    "pred_test = qda_iris.predict(test_x); test_error = 1 - accuracy(test_y, pred_test)\n",
    "    \n",
    "print(f\"Error de entrenamiento en modelo QDA, con semilla {rng_seed} es {train_error:.4f}, mientras que error en testeo es {test_error:.4f}\")\n",
    "\n",
    "\n",
    "# ---------------- LDA Iris ----------------\n",
    "\n",
    "lda_iris = LDA()\n",
    "lda_iris.fit(train_x, train_y)\n",
    "    \n",
    "# Predicciones en conjunto de entrenamiento\n",
    "pred_train = lda_iris.predict(train_x); train_error = 1 - accuracy(train_y, pred_train)\n",
    "    \n",
    "# Predicciones en conjunto de testeo\n",
    "pred_test = lda_iris.predict(test_x); test_error = 1 - accuracy(test_y, pred_test)\n",
    "    \n",
    "print(f\"Error de entrenamiento en modelo LDA, con semilla {rng_seed} es {train_error:.4f}, mientras que error en testeo es {test_error:.4f}\")\n"
   ]
  },
  {
   "cell_type": "markdown",
   "metadata": {},
   "source": [
    "**Resumen de muestras de entrenamiento | test \"Iris\"**\n",
    "\n",
    "Muestra | Dataset | seed | Setosa | Versicolor | Virginica\n",
    ":---: | :---: | :---: | :---: | :---: | :---: \n",
    "Train | Iris | 42 | 31 | 37 | 37\n",
    "Test | Iris | 42 | 19 | 13 | 13\n",
    "Train | Iris | 1001 | 38 | 33 | 34\n",
    "Test | Iris | 1001 | 12 | 17 | 16\n",
    "Train | Iris | 4444 | 40 | 30 | 35\n",
    "Test | Iris | 4444 | 10 | 20 | 15\n",
    "\n",
    "**Resultados QDA | LDA en dataset \"Iris\"**\n",
    "\n",
    "Modelo | Dataset | Seed | Error (train) | Error (test)\n",
    ":---: | :---: | :---: |  :---: | :---:\n",
    "QDA | Iris | 42 |  0.0190 | 0.0000\n",
    "LDA | Iris | 42 |   0.1524 |  0.1556 \n",
    "QDA | Iris | 1001 |  0.0286 | 0.0000\n",
    "LDA | Iris | 1001 |  0.1238 | 0.2000\n",
    "QDA | Iris | 4444 |  0.0381 | 0.0444\n",
    "LDA | Iris | 4444 |  0.1143 | 0.2667\n",
    "\n",
    "En el caso del dataset de Iris, se mantiene el mismo patrón mas allá de variar la semilla, por lo que la aleatoriedad no afecta la elección de un modelo sobre el otro. QDA sigue manteniendo mejor ajuste (menor error de entrenamiento) y mejor generalización (menor error de testeo), con respecto LDA, en cada caso."
   ]
  },
  {
   "cell_type": "code",
   "execution_count": 25,
   "metadata": {},
   "outputs": [
    {
     "name": "stdout",
     "output_type": "stream",
     "text": [
      "(4, 239) (1, 239) (4, 103) (1, 103)\n",
      "(array(['Adelie', 'Chinstrap', 'Gentoo'], dtype=object), array([105,  44,  90], dtype=int64))\n",
      "(array(['Adelie', 'Chinstrap', 'Gentoo'], dtype=object), array([46, 24, 33], dtype=int64))\n",
      "Error de entrenamiento en modelo QDA, con semilla 1001 es 0.0042, mientras que error en testeo es 0.0388\n",
      "Error de entrenamiento en modelo LDA, con semilla 1001 es 0.0084, mientras que error en testeo es 0.0485\n",
      "(4, 239) (1, 239) (4, 103) (1, 103)\n",
      "(array(['Adelie', 'Chinstrap', 'Gentoo'], dtype=object), array([107,  48,  84], dtype=int64))\n",
      "(array(['Adelie', 'Chinstrap', 'Gentoo'], dtype=object), array([44, 20, 39], dtype=int64))\n",
      "Error de entrenamiento en modelo QDA, con semilla 4444 es 0.0126, mientras que error en testeo es 0.0097\n",
      "Error de entrenamiento en modelo LDA, con semilla 4444 es 0.0209205021, mientras que error en testeo es 0.0194174757\n"
     ]
    }
   ],
   "source": [
    "# ---------------- Split datos entrenamiento (70%) | testeo (30%) Semilla 1001 ----------------\n",
    "\n",
    "rng_seed = 1001\n",
    "train_xp, train_yp, test_xp, test_yp = split_transpose(X_fullp, y_fullp, 0.3, rng_seed)\n",
    "print(train_xp.shape, train_yp.shape, test_xp.shape, test_yp.shape)\n",
    "print(np.unique(train_yp, return_counts=True))\n",
    "print(np.unique(test_yp, return_counts=True))\n",
    "\n",
    "\n",
    "# ---------------- QDA Penguin ----------------\n",
    "\n",
    "qda_peng = QDA()\n",
    "qda_peng.fit(train_xp, train_yp)\n",
    "    \n",
    "# Predicciones en conjunto de entrenamiento\n",
    "pred_train = qda_peng.predict(train_xp); train_error = 1 - accuracy(train_yp, pred_train)\n",
    "    \n",
    "# Predicciones en conjunto de testeo\n",
    "pred_test = qda_peng.predict(test_xp); test_error = 1 - accuracy(test_yp, pred_test)\n",
    "    \n",
    "print(f\"Error de entrenamiento en modelo QDA, con semilla {rng_seed} es {train_error:.4f}, mientras que error en testeo es {test_error:.4f}\")\n",
    "\n",
    "\n",
    "# ---------------- LDA Penguin ----------------\n",
    "\n",
    "lda_peng = LDA()\n",
    "lda_peng.fit(train_xp, train_yp)\n",
    "    \n",
    "# Predicciones en conjunto de entrenamiento\n",
    "pred_train = lda_peng.predict(train_xp); train_error = 1 - accuracy(train_yp, pred_train)\n",
    "    \n",
    "# Predicciones en conjunto de testeo\n",
    "pred_test = lda_peng.predict(test_xp); test_error = 1 - accuracy(test_yp, pred_test)\n",
    "    \n",
    "print(f\"Error de entrenamiento en modelo LDA, con semilla {rng_seed} es {train_error:.4f}, mientras que error en testeo es {test_error:.4f}\")\n",
    "\n",
    "\n",
    "# ---------------- Split datos entrenamiento (70%) | testeo (30%) Semilla 4444 ----------------\n",
    "\n",
    "rng_seed = 4444\n",
    "train_xp, train_yp, test_xp, test_yp = split_transpose(X_fullp, y_fullp, 0.3, rng_seed)\n",
    "print(train_xp.shape, train_yp.shape, test_xp.shape, test_yp.shape)\n",
    "print(np.unique(train_yp, return_counts=True))\n",
    "print(np.unique(test_yp, return_counts=True))\n",
    "\n",
    "\n",
    "# ---------------- QDA Penguin ----------------\n",
    "\n",
    "qda_peng = QDA()\n",
    "qda_peng.fit(train_xp, train_yp)\n",
    "    \n",
    "# Predicciones en conjunto de entrenamiento\n",
    "pred_train = qda_peng.predict(train_xp); train_error = 1 - accuracy(train_yp, pred_train)\n",
    "    \n",
    "# Predicciones en conjunto de testeo\n",
    "pred_test = qda_peng.predict(test_xp); test_error = 1 - accuracy(test_yp, pred_test)\n",
    "    \n",
    "print(f\"Error de entrenamiento en modelo QDA, con semilla {rng_seed} es {train_error:.4f}, mientras que error en testeo es {test_error:.4f}\")\n",
    "\n",
    "\n",
    "# ---------------- LDA Penguin ----------------\n",
    "\n",
    "lda_peng = LDA()\n",
    "lda_peng.fit(train_xp, train_yp)\n",
    "    \n",
    "# Predicciones en conjunto de entrenamiento\n",
    "pred_train = lda_peng.predict(train_xp); train_error = 1 - accuracy(train_yp, pred_train)\n",
    "    \n",
    "# Predicciones en conjunto de testeo\n",
    "pred_test = lda_peng.predict(test_xp); test_error = 1 - accuracy(test_yp, pred_test)\n",
    "    \n",
    "print(f\"Error de entrenamiento en modelo LDA, con semilla {rng_seed} es {train_error:.10f}, mientras que error en testeo es {test_error:.10f}\")"
   ]
  },
  {
   "cell_type": "markdown",
   "metadata": {},
   "source": [
    "**Resumen de muestras de entrenamiento | test \"Penguins\"**\n",
    "\n",
    "Muestra | Dataset | seed | Adelie | Chinstrap | Gentoo\n",
    ":---: | :---: | :---: | :---: | :---: | :---: \n",
    "Train | Penguins | 42 | 101 | 50 | 88\n",
    "Test | Penguins | 42 | 50 | 18 | 35\n",
    "Train | Penguins | 1001 | 105 | 44 | 90\n",
    "Test | Penguins | 1001 | 46 | 24 | 33\n",
    "Train | Penguins | 4444 | 107 | 48 | 84\n",
    "Test | Penguins | 4444 | 44 | 20 | 39\n",
    "\n",
    "**Resultados QDA | LDA en dataset \"Penguins\"**\n",
    "\n",
    "Modelo | Dataset | Seed | Error (train) | Error (test)\n",
    ":---: | :---: | :---: |  :---: | :---:\n",
    "QDA | Penguins | 42 |  0.0126 | 0.0097\n",
    "LDA | Penguins | 42 |  0.0251 | 0.0097\n",
    "QDA | Penguin | 1001 |  0.0042 | 0.0388\n",
    "LDA | Penguin | 1001 |  0.0084 | 0.0485\n",
    "QDA | Penguin | 4444 |  0.0126 | 0.0097\n",
    "LDA | Penguin | 4444 |  0.0209 | 0.0194\n",
    "\n",
    "En este caso cuando utilizabamos una semilla fija (42) inicialmente, no se evidenciaban diferencias significativas en el error de testeo (aunque si en el entrenamiento). Al variar esa semilla, se toman varias muestras (dado que la semilla fijaba la aleatoriedad de la muestra que se toma, afecta el *split*), y se pueden detectar ahora varias diferencias a favor del modelo QDA, tanto en el ajuste del modelo (error de entrenamiento) como en la generalización del mismo (error de testeo). Esto seguramente se deba al *desbalance* que puede existir dentro de los datos utilizados para entrenar el modelo (i.e. hay especies con mayor frecuencia que otras, por lo tanto es susceptible a la muestra tomada)."
   ]
  },
  {
   "cell_type": "markdown",
   "metadata": {},
   "source": [
    "### 5. Estimar y comparar los tiempos de predicción de las clases `QDA` y `TensorizedQDA`. De haber diferencias ¿Cuáles pueden ser las causas?"
   ]
  },
  {
   "cell_type": "code",
   "execution_count": 26,
   "metadata": {},
   "outputs": [],
   "source": [
    "# ---------------- Split datos entrenamiento (70%) | testeo (30%) ----------------\n",
    "\n",
    "rng_seed = 42\n",
    "train_x, train_y, test_x, test_y = split_transpose(X_full, y_full, 0.3, rng_seed)\n",
    "\n",
    "# ---------------- QDA Iris ----------------\n",
    "\n",
    "qda_iris = QDA()\n",
    "qda_iris.fit(train_x, train_y)\n",
    "\n",
    "# ---------------- TensorizedQDA Iris ----------------\n",
    "\n",
    "tqda_iris = TensorizedQDA()\n",
    "tqda_iris.fit(train_x, train_y)\n",
    "    "
   ]
  },
  {
   "cell_type": "code",
   "execution_count": 27,
   "metadata": {},
   "outputs": [
    {
     "name": "stdout",
     "output_type": "stream",
     "text": [
      "1.55 ms ± 20.5 µs per loop (mean ± std. dev. of 10 runs, 1,000 loops each)\n"
     ]
    }
   ],
   "source": [
    "%%timeit -n 1000 -r 10\n",
    "#  ---------------- Tiempos de predicción QDA Iris ----------------\n",
    "qda_iris.predict(test_x)"
   ]
  },
  {
   "cell_type": "code",
   "execution_count": 28,
   "metadata": {},
   "outputs": [
    {
     "name": "stdout",
     "output_type": "stream",
     "text": [
      "602 µs ± 2.45 µs per loop (mean ± std. dev. of 10 runs, 1,000 loops each)\n"
     ]
    }
   ],
   "source": [
    "%%timeit -n 1000 -r 10\n",
    "#  ---------------- Tiempos de predicción Tensorized QDA Iris ----------------\n",
    "tqda_iris.predict(test_x)"
   ]
  },
  {
   "cell_type": "markdown",
   "metadata": {},
   "source": [
    "Modelo | Tiempo Medio ($\\mu s$)| Desvío ($\\mu s$) |\n",
    ":---: | :---: | :---: | \n",
    "QDA | 1890 | 64.3 | \n",
    "TQDA | 711 | 16.2 | \n"
   ]
  },
  {
   "cell_type": "markdown",
   "metadata": {},
   "source": [
    "La versión *no tensorizada* utiliza el bucle for y eso aumentaría la complejidad computacional, en cambio la *tensorizada* al realizar cálculos con tensores, disminuye la complejidad computacional y se aprovechan de forma más eficiente los recursos disponibles (e.g. *cpu, gpu*). En este caso, TensorizedQDA toma $\\approx$ un $37,6 \\% $ del tiempo que demora QDA en generar la predicción."
   ]
  },
  {
   "cell_type": "markdown",
   "metadata": {},
   "source": [
    "## Optimización matemática\n",
    "\n",
    "**Sugerencia:** considerar combinaciones adecuadas de `transpose`, `reshape` y, ocasionalmente, `flatten`. Explorar la dimensionalidad de cada elemento antes de implementar las clases.\n",
    "\n",
    "### QDA\n",
    "\n",
    "Debido a la forma cuadrática de QDA, no se puede predecir para *n* observaciones en una sola pasada (utilizar $X \\in \\mathbb{R}^{p \\times n}$ en vez de $x \\in \\mathbb{R}^p$) sin pasar por una matriz de *n x n* en donde se computan todas las interacciones entre observaciones. Se puede acceder al resultado recuperando sólo la diagonal de dicha matriz, pero resulta ineficiente en tiempo y (especialmente) en memoria. Aún así, es *posible* que el modelo funcione más rápido."
   ]
  },
  {
   "cell_type": "markdown",
   "metadata": {},
   "source": [
    "1. Implementar el modelo `FasterQDA` (se recomienda heredarlo de TensorizedQDA) de manera de eliminar el ciclo for en el método predict."
   ]
  },
  {
   "cell_type": "code",
   "execution_count": 29,
   "metadata": {},
   "outputs": [],
   "source": [
    "import numpy as np\n",
    "from numpy.linalg import inv, det\n",
    "#from BaseBayesianClassifier import BaseBayesianClassifier\n",
    "\n",
    "class FasterQDA(TensorizedQDA):\n",
    "\n",
    "    def _predict_log_conditionals(self, X):\n",
    "        unbiased_X = X[:, np.newaxis, :] - self.tensor_means.T\n",
    "        inner_prod = np.einsum('ijk,ikl->ijl', unbiased_X.T, self.tensor_inv_cov) @ unbiased_X\n",
    "        diag_inner_prod = np.einsum('ijj->ij', inner_prod)\n",
    "        return 0.5 * np.log(det(self.tensor_inv_cov)) - 0.5 * diag_inner_prod\n",
    "\n",
    "    def _predict_one(self, X):\n",
    "        return np.argmax(self.log_a_priori + self._predict_log_conditionals(X), axis=1)"
   ]
  },
  {
   "cell_type": "markdown",
   "metadata": {},
   "source": [
    "2. Comparar los tiempos de predicción de `FasterQDA` con `TensorizedQDA` y `QDA`."
   ]
  },
  {
   "cell_type": "code",
   "execution_count": 30,
   "metadata": {},
   "outputs": [
    {
     "name": "stdout",
     "output_type": "stream",
     "text": [
      "(4, 105) (1, 105) (4, 45) (1, 45)\n"
     ]
    }
   ],
   "source": [
    "# ---------------- Split datos entrenamiento (70%) | testeo (30%) ----------------\n",
    "\n",
    "rng_seed = 1001\n",
    "train_x, train_y, test_x, test_y = split_transpose(X_full, y_full, 0.3, rng_seed)\n",
    "print(train_x.shape, train_y.shape, test_x.shape, test_y.shape)"
   ]
  },
  {
   "cell_type": "code",
   "execution_count": 31,
   "metadata": {},
   "outputs": [],
   "source": [
    "# ---------------- QDA Iris ----------------\n",
    "\n",
    "qda_iris = QDA()\n",
    "qda_iris.fit(train_x, train_y)\n",
    "\n",
    "# ---------------- Tensorized QDA Iris ----------------\n",
    "\n",
    "tensorized_qda_iris = TensorizedQDA()\n",
    "tensorized_qda_iris.fit(train_x, train_y)\n",
    "\n",
    "# ---------------- FasterQDA Iris ----------------\n",
    "\n",
    "faster_qda_iris = FasterQDA()\n",
    "faster_qda_iris.fit(train_x, train_y)"
   ]
  },
  {
   "cell_type": "code",
   "execution_count": 32,
   "metadata": {},
   "outputs": [
    {
     "name": "stdout",
     "output_type": "stream",
     "text": [
      "1.54 ms ± 15.9 µs per loop (mean ± std. dev. of 10 runs, 1,000 loops each)\n"
     ]
    }
   ],
   "source": [
    "%%timeit -n 1000 -r 10\n",
    "# ---------------- Tiempos de predicción QDA en conjunto de testeo ----------------\n",
    "qda_iris_pred_test = qda_iris.predict(test_x)"
   ]
  },
  {
   "cell_type": "code",
   "execution_count": 33,
   "metadata": {},
   "outputs": [
    {
     "name": "stdout",
     "output_type": "stream",
     "text": [
      "598 µs ± 4.49 µs per loop (mean ± std. dev. of 10 runs, 1,000 loops each)\n"
     ]
    }
   ],
   "source": [
    "%%timeit -n 1000 -r 10\n",
    "# ---------------- Tiempos de predicción TensorizedQDA en conjunto de testeo ----------------\n",
    "tensorized_qda_iris_pred_test = tensorized_qda_iris.predict(test_x)"
   ]
  },
  {
   "cell_type": "code",
   "execution_count": 34,
   "metadata": {},
   "outputs": [
    {
     "ename": "ValueError",
     "evalue": "operands could not be broadcast together with remapped shapes [original->remapped]: (3,4,4)->(3,newaxis,newaxis) (4,4,3)->(4,newaxis,newaxis)  and requested shape (4,3)",
     "output_type": "error",
     "traceback": [
      "\u001b[1;31m---------------------------------------------------------------------------\u001b[0m",
      "\u001b[1;31mValueError\u001b[0m                                Traceback (most recent call last)",
      "Input \u001b[1;32mIn [34]\u001b[0m, in \u001b[0;36m<cell line: 1>\u001b[1;34m()\u001b[0m\n\u001b[1;32m----> 1\u001b[0m \u001b[43mget_ipython\u001b[49m\u001b[43m(\u001b[49m\u001b[43m)\u001b[49m\u001b[38;5;241;43m.\u001b[39;49m\u001b[43mrun_cell_magic\u001b[49m\u001b[43m(\u001b[49m\u001b[38;5;124;43m'\u001b[39;49m\u001b[38;5;124;43mtimeit\u001b[39;49m\u001b[38;5;124;43m'\u001b[39;49m\u001b[43m,\u001b[49m\u001b[43m \u001b[49m\u001b[38;5;124;43m'\u001b[39;49m\u001b[38;5;124;43m-n 1000 -r 10\u001b[39;49m\u001b[38;5;124;43m'\u001b[39;49m\u001b[43m,\u001b[49m\u001b[43m \u001b[49m\u001b[38;5;124;43m'\u001b[39;49m\u001b[38;5;124;43m# ---------------- Tiempos de predicción FasterQDA en conjunto de testeo ----------------\u001b[39;49m\u001b[38;5;130;43;01m\\n\u001b[39;49;00m\u001b[38;5;124;43mfaster_qda_iris_pred_test = faster_qda_iris.predict(test_x)\u001b[39;49m\u001b[38;5;130;43;01m\\n\u001b[39;49;00m\u001b[38;5;124;43m'\u001b[39;49m\u001b[43m)\u001b[49m\n",
      "File \u001b[1;32mc:\\Users\\Usuario\\AppData\\Local\\Programs\\Python\\Python310\\lib\\site-packages\\IPython\\core\\interactiveshell.py:2358\u001b[0m, in \u001b[0;36mInteractiveShell.run_cell_magic\u001b[1;34m(self, magic_name, line, cell)\u001b[0m\n\u001b[0;32m   2356\u001b[0m \u001b[38;5;28;01mwith\u001b[39;00m \u001b[38;5;28mself\u001b[39m\u001b[38;5;241m.\u001b[39mbuiltin_trap:\n\u001b[0;32m   2357\u001b[0m     args \u001b[38;5;241m=\u001b[39m (magic_arg_s, cell)\n\u001b[1;32m-> 2358\u001b[0m     result \u001b[38;5;241m=\u001b[39m fn(\u001b[38;5;241m*\u001b[39margs, \u001b[38;5;241m*\u001b[39m\u001b[38;5;241m*\u001b[39mkwargs)\n\u001b[0;32m   2359\u001b[0m \u001b[38;5;28;01mreturn\u001b[39;00m result\n",
      "File \u001b[1;32mc:\\Users\\Usuario\\AppData\\Local\\Programs\\Python\\Python310\\lib\\site-packages\\IPython\\core\\magics\\execution.py:1166\u001b[0m, in \u001b[0;36mExecutionMagics.timeit\u001b[1;34m(self, line, cell, local_ns)\u001b[0m\n\u001b[0;32m   1163\u001b[0m         \u001b[38;5;28;01mif\u001b[39;00m time_number \u001b[38;5;241m>\u001b[39m\u001b[38;5;241m=\u001b[39m \u001b[38;5;241m0.2\u001b[39m:\n\u001b[0;32m   1164\u001b[0m             \u001b[38;5;28;01mbreak\u001b[39;00m\n\u001b[1;32m-> 1166\u001b[0m all_runs \u001b[38;5;241m=\u001b[39m \u001b[43mtimer\u001b[49m\u001b[38;5;241;43m.\u001b[39;49m\u001b[43mrepeat\u001b[49m\u001b[43m(\u001b[49m\u001b[43mrepeat\u001b[49m\u001b[43m,\u001b[49m\u001b[43m \u001b[49m\u001b[43mnumber\u001b[49m\u001b[43m)\u001b[49m\n\u001b[0;32m   1167\u001b[0m best \u001b[38;5;241m=\u001b[39m \u001b[38;5;28mmin\u001b[39m(all_runs) \u001b[38;5;241m/\u001b[39m number\n\u001b[0;32m   1168\u001b[0m worst \u001b[38;5;241m=\u001b[39m \u001b[38;5;28mmax\u001b[39m(all_runs) \u001b[38;5;241m/\u001b[39m number\n",
      "File \u001b[1;32mc:\\Users\\Usuario\\AppData\\Local\\Programs\\Python\\Python310\\lib\\timeit.py:206\u001b[0m, in \u001b[0;36mTimer.repeat\u001b[1;34m(self, repeat, number)\u001b[0m\n\u001b[0;32m    204\u001b[0m r \u001b[38;5;241m=\u001b[39m []\n\u001b[0;32m    205\u001b[0m \u001b[38;5;28;01mfor\u001b[39;00m i \u001b[38;5;129;01min\u001b[39;00m \u001b[38;5;28mrange\u001b[39m(repeat):\n\u001b[1;32m--> 206\u001b[0m     t \u001b[38;5;241m=\u001b[39m \u001b[38;5;28;43mself\u001b[39;49m\u001b[38;5;241;43m.\u001b[39;49m\u001b[43mtimeit\u001b[49m\u001b[43m(\u001b[49m\u001b[43mnumber\u001b[49m\u001b[43m)\u001b[49m\n\u001b[0;32m    207\u001b[0m     r\u001b[38;5;241m.\u001b[39mappend(t)\n\u001b[0;32m    208\u001b[0m \u001b[38;5;28;01mreturn\u001b[39;00m r\n",
      "File \u001b[1;32mc:\\Users\\Usuario\\AppData\\Local\\Programs\\Python\\Python310\\lib\\site-packages\\IPython\\core\\magics\\execution.py:156\u001b[0m, in \u001b[0;36mTimer.timeit\u001b[1;34m(self, number)\u001b[0m\n\u001b[0;32m    154\u001b[0m gc\u001b[38;5;241m.\u001b[39mdisable()\n\u001b[0;32m    155\u001b[0m \u001b[38;5;28;01mtry\u001b[39;00m:\n\u001b[1;32m--> 156\u001b[0m     timing \u001b[38;5;241m=\u001b[39m \u001b[38;5;28;43mself\u001b[39;49m\u001b[38;5;241;43m.\u001b[39;49m\u001b[43minner\u001b[49m\u001b[43m(\u001b[49m\u001b[43mit\u001b[49m\u001b[43m,\u001b[49m\u001b[43m \u001b[49m\u001b[38;5;28;43mself\u001b[39;49m\u001b[38;5;241;43m.\u001b[39;49m\u001b[43mtimer\u001b[49m\u001b[43m)\u001b[49m\n\u001b[0;32m    157\u001b[0m \u001b[38;5;28;01mfinally\u001b[39;00m:\n\u001b[0;32m    158\u001b[0m     \u001b[38;5;28;01mif\u001b[39;00m gcold:\n",
      "File \u001b[1;32m<magic-timeit>:2\u001b[0m, in \u001b[0;36minner\u001b[1;34m(_it, _timer)\u001b[0m\n",
      "Input \u001b[1;32mIn [3]\u001b[0m, in \u001b[0;36mBaseBayesianClassifier.predict\u001b[1;34m(self, X)\u001b[0m\n\u001b[0;32m     36\u001b[0m y_hat \u001b[38;5;241m=\u001b[39m np\u001b[38;5;241m.\u001b[39mempty(m_obs, dtype\u001b[38;5;241m=\u001b[39m\u001b[38;5;28mself\u001b[39m\u001b[38;5;241m.\u001b[39mencoder\u001b[38;5;241m.\u001b[39mfmt)\n\u001b[0;32m     38\u001b[0m \u001b[38;5;28;01mfor\u001b[39;00m i \u001b[38;5;129;01min\u001b[39;00m \u001b[38;5;28mrange\u001b[39m(m_obs):\n\u001b[1;32m---> 39\u001b[0m   encoded_y_hat_i \u001b[38;5;241m=\u001b[39m \u001b[38;5;28;43mself\u001b[39;49m\u001b[38;5;241;43m.\u001b[39;49m\u001b[43m_predict_one\u001b[49m\u001b[43m(\u001b[49m\u001b[43mX\u001b[49m\u001b[43m[\u001b[49m\u001b[43m:\u001b[49m\u001b[43m,\u001b[49m\u001b[43mi\u001b[49m\u001b[43m]\u001b[49m\u001b[38;5;241;43m.\u001b[39;49m\u001b[43mreshape\u001b[49m\u001b[43m(\u001b[49m\u001b[38;5;241;43m-\u001b[39;49m\u001b[38;5;241;43m1\u001b[39;49m\u001b[43m,\u001b[49m\u001b[38;5;241;43m1\u001b[39;49m\u001b[43m)\u001b[49m\u001b[43m)\u001b[49m\n\u001b[0;32m     40\u001b[0m   y_hat[i] \u001b[38;5;241m=\u001b[39m \u001b[38;5;28mself\u001b[39m\u001b[38;5;241m.\u001b[39mencoder\u001b[38;5;241m.\u001b[39mnames[encoded_y_hat_i]\n\u001b[0;32m     42\u001b[0m \u001b[38;5;66;03m# return prediction as a row vector (matching y)\u001b[39;00m\n",
      "Input \u001b[1;32mIn [29]\u001b[0m, in \u001b[0;36mFasterQDA._predict_one\u001b[1;34m(self, X)\u001b[0m\n\u001b[0;32m     13\u001b[0m \u001b[38;5;28;01mdef\u001b[39;00m \u001b[38;5;21m_predict_one\u001b[39m(\u001b[38;5;28mself\u001b[39m, X):\n\u001b[1;32m---> 14\u001b[0m     \u001b[38;5;28;01mreturn\u001b[39;00m np\u001b[38;5;241m.\u001b[39margmax(\u001b[38;5;28mself\u001b[39m\u001b[38;5;241m.\u001b[39mlog_a_priori \u001b[38;5;241m+\u001b[39m \u001b[38;5;28;43mself\u001b[39;49m\u001b[38;5;241;43m.\u001b[39;49m\u001b[43m_predict_log_conditionals\u001b[49m\u001b[43m(\u001b[49m\u001b[43mX\u001b[49m\u001b[43m)\u001b[49m, axis\u001b[38;5;241m=\u001b[39m\u001b[38;5;241m1\u001b[39m)\n",
      "Input \u001b[1;32mIn [29]\u001b[0m, in \u001b[0;36mFasterQDA._predict_log_conditionals\u001b[1;34m(self, X)\u001b[0m\n\u001b[0;32m      7\u001b[0m \u001b[38;5;28;01mdef\u001b[39;00m \u001b[38;5;21m_predict_log_conditionals\u001b[39m(\u001b[38;5;28mself\u001b[39m, X):\n\u001b[0;32m      8\u001b[0m     unbiased_X \u001b[38;5;241m=\u001b[39m X[:, np\u001b[38;5;241m.\u001b[39mnewaxis, :] \u001b[38;5;241m-\u001b[39m \u001b[38;5;28mself\u001b[39m\u001b[38;5;241m.\u001b[39mtensor_means\u001b[38;5;241m.\u001b[39mT\n\u001b[1;32m----> 9\u001b[0m     inner_prod \u001b[38;5;241m=\u001b[39m \u001b[43mnp\u001b[49m\u001b[38;5;241;43m.\u001b[39;49m\u001b[43meinsum\u001b[49m\u001b[43m(\u001b[49m\u001b[38;5;124;43m'\u001b[39;49m\u001b[38;5;124;43mijk,ikl->ijl\u001b[39;49m\u001b[38;5;124;43m'\u001b[39;49m\u001b[43m,\u001b[49m\u001b[43m \u001b[49m\u001b[43munbiased_X\u001b[49m\u001b[38;5;241;43m.\u001b[39;49m\u001b[43mT\u001b[49m\u001b[43m,\u001b[49m\u001b[43m \u001b[49m\u001b[38;5;28;43mself\u001b[39;49m\u001b[38;5;241;43m.\u001b[39;49m\u001b[43mtensor_inv_cov\u001b[49m\u001b[43m)\u001b[49m\u001b[43m \u001b[49m\u001b[38;5;241;43m@\u001b[39;49m\u001b[43m \u001b[49m\u001b[43munbiased_X\u001b[49m\n\u001b[0;32m     10\u001b[0m     diag_inner_prod \u001b[38;5;241m=\u001b[39m np\u001b[38;5;241m.\u001b[39meinsum(\u001b[38;5;124m'\u001b[39m\u001b[38;5;124mijj->ij\u001b[39m\u001b[38;5;124m'\u001b[39m, inner_prod)\n\u001b[0;32m     11\u001b[0m     \u001b[38;5;28;01mreturn\u001b[39;00m \u001b[38;5;241m0.5\u001b[39m \u001b[38;5;241m*\u001b[39m np\u001b[38;5;241m.\u001b[39mlog(det(\u001b[38;5;28mself\u001b[39m\u001b[38;5;241m.\u001b[39mtensor_inv_cov)) \u001b[38;5;241m-\u001b[39m \u001b[38;5;241m0.5\u001b[39m \u001b[38;5;241m*\u001b[39m diag_inner_prod\n",
      "\u001b[1;31mValueError\u001b[0m: operands could not be broadcast together with remapped shapes [original->remapped]: (3,4,4)->(3,newaxis,newaxis) (4,4,3)->(4,newaxis,newaxis)  and requested shape (4,3)"
     ]
    }
   ],
   "source": [
    "%%timeit -n 1000 -r 10\n",
    "# ---------------- Tiempos de predicción FasterQDA en conjunto de testeo ----------------\n",
    "faster_qda_iris_pred_test = faster_qda_iris.predict(test_x)"
   ]
  },
  {
   "cell_type": "code",
   "execution_count": null,
   "metadata": {},
   "outputs": [
    {
     "data": {
      "text/plain": [
       "'%%timeit\\n# Predicciones en conjunto de entrenamiento\\nqda_iris_pred_train = qda_iris.predict(train_x)\\nqda_iris_train_error = 1 - accuracy(train_y, qda_iris_pred_train)\\n    \\n# Predicciones en conjunto de testeo\\nqda_iris_pred_test = qda_iris.predict(test_x)\\nqda_iris_test_error = 1 - accuracy(test_y, qda_iris_pred_test)'"
      ]
     },
     "execution_count": 34,
     "metadata": {},
     "output_type": "execute_result"
    }
   ],
   "source": [
    "'''%%timeit\n",
    "# ---------------- Tiempo completo proceso predicciones en conjunto de entrenamiento | testeo (QDA) ----------------\n",
    "# Predicciones en conjunto de entrenamiento\n",
    "qda_iris_pred_train = qda_iris.predict(train_x)\n",
    "qda_iris_train_error = 1 - accuracy(train_y, qda_iris_pred_train)\n",
    "    \n",
    "# Predicciones en conjunto de testeo\n",
    "qda_iris_pred_test = qda_iris.predict(test_x)\n",
    "qda_iris_test_error = 1 - accuracy(test_y, qda_iris_pred_test)'''"
   ]
  },
  {
   "cell_type": "code",
   "execution_count": null,
   "metadata": {},
   "outputs": [
    {
     "data": {
      "text/plain": [
       "'%%timeit\\n# Predicciones en conjunto de entrenamiento\\ntensorized_qda_iris_pred_train = qda_iris.predict(train_x)\\ntensorized_qda_iris_train_error = 1 - accuracy(train_y, tensorized_qda_iris_pred_train)\\n    \\n# Predicciones en conjunto de testeo\\ntensorized_qda_iris_pred_test = qda_iris.predict(test_x)\\ntensorized_qda_iris_test_error = 1 - accuracy(test_y, tensorized_qda_iris_pred_test)'"
      ]
     },
     "execution_count": 35,
     "metadata": {},
     "output_type": "execute_result"
    }
   ],
   "source": [
    "'''%%timeit\n",
    "# Predicciones en conjunto de entrenamiento\n",
    "tensorized_qda_iris_pred_train = qda_iris.predict(train_x)\n",
    "tensorized_qda_iris_train_error = 1 - accuracy(train_y, tensorized_qda_iris_pred_train)\n",
    "    \n",
    "# Predicciones en conjunto de testeo\n",
    "tensorized_qda_iris_pred_test = tensorized_qda_iris.qda_iris.predict(test_x)\n",
    "tensorized_qda_iris_test_error = 1 - accuracy(test_y, tensorized_qda_iris_pred_test)'''"
   ]
  },
  {
   "cell_type": "code",
   "execution_count": null,
   "metadata": {},
   "outputs": [
    {
     "name": "stdout",
     "output_type": "stream",
     "text": [
      "6.12 ms ± 117 µs per loop (mean ± std. dev. of 7 runs, 100 loops each)\n"
     ]
    }
   ],
   "source": [
    "'''%%timeit\n",
    "# Predicciones en conjunto de entrenamiento\n",
    "faster_qda_iris_pred_train = qda_iris.predict(train_x)\n",
    "faster_qda_iris_train_error = 1 - accuracy(train_y, faster_qda_iris_pred_train)\n",
    "    \n",
    "# Predicciones en conjunto de testeo\n",
    "faster_qda_iris_pred_test = qda_iris.predict(test_x)\n",
    "faster_qda_iris_test_error = 1 - accuracy(test_y, faster_qda_iris_pred_test)'''"
   ]
  },
  {
   "cell_type": "markdown",
   "metadata": {},
   "source": [
    "3. Mostrar (puede ser con un print) dónde aparece la mencionada matriz de *n x n*, donde *n* es la cantidad de observaciones a predecir."
   ]
  },
  {
   "cell_type": "markdown",
   "metadata": {},
   "source": [
    "La matriz de 𝑛×𝑛 aparece cuando se calcula el producto interno en el método _predict_log_conditionals de la clase TensorizedQDA. La operación que genera una matriz \n",
    "𝑛 × 𝑛 es:"
   ]
  },
  {
   "cell_type": "code",
   "execution_count": null,
   "metadata": {},
   "outputs": [],
   "source": [
    "# inner_prod = unbiased_x.transpose(0, 2, 1) @ self.tensor_inv_cov @ unbiased_x\n"
   ]
  },
  {
   "cell_type": "markdown",
   "metadata": {},
   "source": [
    "4.Demostrar que\n",
    "$$\n",
    "diag(A \\cdot B) = \\sum_{cols} A \\odot B^T = np.sum(A \\odot B^T, axis=1)\n",
    "$$ es decir, que se puede \"esquivar\" la matriz de *n x n* usando matrices de *n x p*."
   ]
  },
  {
   "cell_type": "code",
   "execution_count": null,
   "metadata": {},
   "outputs": [
    {
     "data": {
      "text/plain": [
       "True"
      ]
     },
     "execution_count": 42,
     "metadata": {},
     "output_type": "execute_result"
    }
   ],
   "source": [
    "A = np.random.randn(100, 10)\n",
    "B = np.random.randn(10, 100)\n",
    "\n",
    "# Producto matriz-matriz\n",
    "producto = A @ B\n",
    "\n",
    "# Diagonal del producto\n",
    "diagonal_producto = np.diag(producto)\n",
    "\n",
    "# Demostración de la propiedad\n",
    "producto_elementwise = A * B.T\n",
    "suma_producto_elementwise = np.sum(producto_elementwise, axis=1)\n",
    "\n",
    "# Comprobación\n",
    "np.allclose(diagonal_producto, suma_producto_elementwise)\n"
   ]
  },
  {
   "cell_type": "markdown",
   "metadata": {},
   "source": [
    "5.Utilizar la propiedad antes demostrada para reimplementar la predicción del modelo `FasterQDA` de forma eficiente. ¿Hay cambios en los tiempos de predicción?"
   ]
  },
  {
   "cell_type": "code",
   "execution_count": null,
   "metadata": {},
   "outputs": [],
   "source": [
    "class FasterQDA(TensorizedQDA):\n",
    "\n",
    "    def _predict_log_conditionals(self, X):\n",
    "        unbiased_X = X[:, np.newaxis, :] - self.tensor_means.T\n",
    "        prod_elementwise = np.einsum('ij, kjl -> kil', unbiased_X, self.tensor_inv_cov)\n",
    "        diag_inner_prod = np.einsum('ijk, ikj -> ij', prod_elementwise, unbiased_X)\n",
    "        return 0.5 * np.log(det(self.tensor_inv_cov)) - 0.5 * diag_inner_prod\n",
    "\n",
    "    def _predict_one(self, X):\n",
    "        return np.argmax(self.log_a_priori + self._predict_log_conditionals(X), axis=1)\n"
   ]
  },
  {
   "cell_type": "code",
   "execution_count": null,
   "metadata": {},
   "outputs": [
    {
     "name": "stdout",
     "output_type": "stream",
     "text": [
      "(4, 105) (1, 105) (4, 45) (1, 45)\n"
     ]
    }
   ],
   "source": [
    "# ---------------- Split datos entrenamiento (70%) | testeo (30%) ----------------\n",
    "\n",
    "rng_seed = 1001\n",
    "train_x, train_y, test_x, test_y = split_transpose(X_full, y_full, 0.3, rng_seed)\n",
    "print(train_x.shape, train_y.shape, test_x.shape, test_y.shape)\n",
    "\n",
    "# ---------------- FasterQDA Iris ----------------\n",
    "\n",
    "faster_qda_iris = FasterQDA()\n",
    "faster_qda_iris.fit(train_x, train_y)"
   ]
  },
  {
   "cell_type": "code",
   "execution_count": null,
   "metadata": {},
   "outputs": [
    {
     "ename": "ValueError",
     "evalue": "operand has more dimensions than subscripts given in einstein sum, but no '...' ellipsis provided to broadcast the extra dimensions.",
     "output_type": "error",
     "traceback": [
      "\u001b[1;31m---------------------------------------------------------------------------\u001b[0m",
      "\u001b[1;31mValueError\u001b[0m                                Traceback (most recent call last)",
      "Input \u001b[1;32mIn [49]\u001b[0m, in \u001b[0;36m<cell line: 1>\u001b[1;34m()\u001b[0m\n\u001b[1;32m----> 1\u001b[0m \u001b[43mget_ipython\u001b[49m\u001b[43m(\u001b[49m\u001b[43m)\u001b[49m\u001b[38;5;241;43m.\u001b[39;49m\u001b[43mrun_cell_magic\u001b[49m\u001b[43m(\u001b[49m\u001b[38;5;124;43m'\u001b[39;49m\u001b[38;5;124;43mtimeit\u001b[39;49m\u001b[38;5;124;43m'\u001b[39;49m\u001b[43m,\u001b[49m\u001b[43m \u001b[49m\u001b[38;5;124;43m'\u001b[39;49m\u001b[38;5;124;43m-n 1000 -r 10\u001b[39;49m\u001b[38;5;124;43m'\u001b[39;49m\u001b[43m,\u001b[49m\u001b[43m \u001b[49m\u001b[38;5;124;43m'\u001b[39;49m\u001b[38;5;124;43m# ---------------- Tiempos de predicción FasterQDA en conjunto de testeo ----------------\u001b[39;49m\u001b[38;5;130;43;01m\\n\u001b[39;49;00m\u001b[38;5;130;43;01m\\n\u001b[39;49;00m\u001b[38;5;124;43mfaster_qda_iris_pred_test = faster_qda_iris.predict(test_x.T)\u001b[39;49m\u001b[38;5;130;43;01m\\n\u001b[39;49;00m\u001b[38;5;124;43m'\u001b[39;49m\u001b[43m)\u001b[49m\n",
      "File \u001b[1;32mc:\\Users\\Usuario\\AppData\\Local\\Programs\\Python\\Python310\\lib\\site-packages\\IPython\\core\\interactiveshell.py:2358\u001b[0m, in \u001b[0;36mInteractiveShell.run_cell_magic\u001b[1;34m(self, magic_name, line, cell)\u001b[0m\n\u001b[0;32m   2356\u001b[0m \u001b[38;5;28;01mwith\u001b[39;00m \u001b[38;5;28mself\u001b[39m\u001b[38;5;241m.\u001b[39mbuiltin_trap:\n\u001b[0;32m   2357\u001b[0m     args \u001b[38;5;241m=\u001b[39m (magic_arg_s, cell)\n\u001b[1;32m-> 2358\u001b[0m     result \u001b[38;5;241m=\u001b[39m fn(\u001b[38;5;241m*\u001b[39margs, \u001b[38;5;241m*\u001b[39m\u001b[38;5;241m*\u001b[39mkwargs)\n\u001b[0;32m   2359\u001b[0m \u001b[38;5;28;01mreturn\u001b[39;00m result\n",
      "File \u001b[1;32mc:\\Users\\Usuario\\AppData\\Local\\Programs\\Python\\Python310\\lib\\site-packages\\IPython\\core\\magics\\execution.py:1166\u001b[0m, in \u001b[0;36mExecutionMagics.timeit\u001b[1;34m(self, line, cell, local_ns)\u001b[0m\n\u001b[0;32m   1163\u001b[0m         \u001b[38;5;28;01mif\u001b[39;00m time_number \u001b[38;5;241m>\u001b[39m\u001b[38;5;241m=\u001b[39m \u001b[38;5;241m0.2\u001b[39m:\n\u001b[0;32m   1164\u001b[0m             \u001b[38;5;28;01mbreak\u001b[39;00m\n\u001b[1;32m-> 1166\u001b[0m all_runs \u001b[38;5;241m=\u001b[39m \u001b[43mtimer\u001b[49m\u001b[38;5;241;43m.\u001b[39;49m\u001b[43mrepeat\u001b[49m\u001b[43m(\u001b[49m\u001b[43mrepeat\u001b[49m\u001b[43m,\u001b[49m\u001b[43m \u001b[49m\u001b[43mnumber\u001b[49m\u001b[43m)\u001b[49m\n\u001b[0;32m   1167\u001b[0m best \u001b[38;5;241m=\u001b[39m \u001b[38;5;28mmin\u001b[39m(all_runs) \u001b[38;5;241m/\u001b[39m number\n\u001b[0;32m   1168\u001b[0m worst \u001b[38;5;241m=\u001b[39m \u001b[38;5;28mmax\u001b[39m(all_runs) \u001b[38;5;241m/\u001b[39m number\n",
      "File \u001b[1;32mc:\\Users\\Usuario\\AppData\\Local\\Programs\\Python\\Python310\\lib\\timeit.py:206\u001b[0m, in \u001b[0;36mTimer.repeat\u001b[1;34m(self, repeat, number)\u001b[0m\n\u001b[0;32m    204\u001b[0m r \u001b[38;5;241m=\u001b[39m []\n\u001b[0;32m    205\u001b[0m \u001b[38;5;28;01mfor\u001b[39;00m i \u001b[38;5;129;01min\u001b[39;00m \u001b[38;5;28mrange\u001b[39m(repeat):\n\u001b[1;32m--> 206\u001b[0m     t \u001b[38;5;241m=\u001b[39m \u001b[38;5;28;43mself\u001b[39;49m\u001b[38;5;241;43m.\u001b[39;49m\u001b[43mtimeit\u001b[49m\u001b[43m(\u001b[49m\u001b[43mnumber\u001b[49m\u001b[43m)\u001b[49m\n\u001b[0;32m    207\u001b[0m     r\u001b[38;5;241m.\u001b[39mappend(t)\n\u001b[0;32m    208\u001b[0m \u001b[38;5;28;01mreturn\u001b[39;00m r\n",
      "File \u001b[1;32mc:\\Users\\Usuario\\AppData\\Local\\Programs\\Python\\Python310\\lib\\site-packages\\IPython\\core\\magics\\execution.py:156\u001b[0m, in \u001b[0;36mTimer.timeit\u001b[1;34m(self, number)\u001b[0m\n\u001b[0;32m    154\u001b[0m gc\u001b[38;5;241m.\u001b[39mdisable()\n\u001b[0;32m    155\u001b[0m \u001b[38;5;28;01mtry\u001b[39;00m:\n\u001b[1;32m--> 156\u001b[0m     timing \u001b[38;5;241m=\u001b[39m \u001b[38;5;28;43mself\u001b[39;49m\u001b[38;5;241;43m.\u001b[39;49m\u001b[43minner\u001b[49m\u001b[43m(\u001b[49m\u001b[43mit\u001b[49m\u001b[43m,\u001b[49m\u001b[43m \u001b[49m\u001b[38;5;28;43mself\u001b[39;49m\u001b[38;5;241;43m.\u001b[39;49m\u001b[43mtimer\u001b[49m\u001b[43m)\u001b[49m\n\u001b[0;32m    157\u001b[0m \u001b[38;5;28;01mfinally\u001b[39;00m:\n\u001b[0;32m    158\u001b[0m     \u001b[38;5;28;01mif\u001b[39;00m gcold:\n",
      "File \u001b[1;32m<magic-timeit>:3\u001b[0m, in \u001b[0;36minner\u001b[1;34m(_it, _timer)\u001b[0m\n",
      "Input \u001b[1;32mIn [3]\u001b[0m, in \u001b[0;36mBaseBayesianClassifier.predict\u001b[1;34m(self, X)\u001b[0m\n\u001b[0;32m     36\u001b[0m y_hat \u001b[38;5;241m=\u001b[39m np\u001b[38;5;241m.\u001b[39mempty(m_obs, dtype\u001b[38;5;241m=\u001b[39m\u001b[38;5;28mself\u001b[39m\u001b[38;5;241m.\u001b[39mencoder\u001b[38;5;241m.\u001b[39mfmt)\n\u001b[0;32m     38\u001b[0m \u001b[38;5;28;01mfor\u001b[39;00m i \u001b[38;5;129;01min\u001b[39;00m \u001b[38;5;28mrange\u001b[39m(m_obs):\n\u001b[1;32m---> 39\u001b[0m   encoded_y_hat_i \u001b[38;5;241m=\u001b[39m \u001b[38;5;28;43mself\u001b[39;49m\u001b[38;5;241;43m.\u001b[39;49m\u001b[43m_predict_one\u001b[49m\u001b[43m(\u001b[49m\u001b[43mX\u001b[49m\u001b[43m[\u001b[49m\u001b[43m:\u001b[49m\u001b[43m,\u001b[49m\u001b[43mi\u001b[49m\u001b[43m]\u001b[49m\u001b[38;5;241;43m.\u001b[39;49m\u001b[43mreshape\u001b[49m\u001b[43m(\u001b[49m\u001b[38;5;241;43m-\u001b[39;49m\u001b[38;5;241;43m1\u001b[39;49m\u001b[43m,\u001b[49m\u001b[38;5;241;43m1\u001b[39;49m\u001b[43m)\u001b[49m\u001b[43m)\u001b[49m\n\u001b[0;32m     40\u001b[0m   y_hat[i] \u001b[38;5;241m=\u001b[39m \u001b[38;5;28mself\u001b[39m\u001b[38;5;241m.\u001b[39mencoder\u001b[38;5;241m.\u001b[39mnames[encoded_y_hat_i]\n\u001b[0;32m     42\u001b[0m \u001b[38;5;66;03m# return prediction as a row vector (matching y)\u001b[39;00m\n",
      "Input \u001b[1;32mIn [46]\u001b[0m, in \u001b[0;36mFasterQDA._predict_one\u001b[1;34m(self, X)\u001b[0m\n\u001b[0;32m      9\u001b[0m \u001b[38;5;28;01mdef\u001b[39;00m \u001b[38;5;21m_predict_one\u001b[39m(\u001b[38;5;28mself\u001b[39m, X):\n\u001b[1;32m---> 10\u001b[0m     \u001b[38;5;28;01mreturn\u001b[39;00m np\u001b[38;5;241m.\u001b[39margmax(\u001b[38;5;28mself\u001b[39m\u001b[38;5;241m.\u001b[39mlog_a_priori \u001b[38;5;241m+\u001b[39m \u001b[38;5;28;43mself\u001b[39;49m\u001b[38;5;241;43m.\u001b[39;49m\u001b[43m_predict_log_conditionals\u001b[49m\u001b[43m(\u001b[49m\u001b[43mX\u001b[49m\u001b[43m)\u001b[49m, axis\u001b[38;5;241m=\u001b[39m\u001b[38;5;241m1\u001b[39m)\n",
      "Input \u001b[1;32mIn [46]\u001b[0m, in \u001b[0;36mFasterQDA._predict_log_conditionals\u001b[1;34m(self, X)\u001b[0m\n\u001b[0;32m      3\u001b[0m \u001b[38;5;28;01mdef\u001b[39;00m \u001b[38;5;21m_predict_log_conditionals\u001b[39m(\u001b[38;5;28mself\u001b[39m, X):\n\u001b[0;32m      4\u001b[0m     unbiased_X \u001b[38;5;241m=\u001b[39m X[:, np\u001b[38;5;241m.\u001b[39mnewaxis, :] \u001b[38;5;241m-\u001b[39m \u001b[38;5;28mself\u001b[39m\u001b[38;5;241m.\u001b[39mtensor_means\u001b[38;5;241m.\u001b[39mT\n\u001b[1;32m----> 5\u001b[0m     prod_elementwise \u001b[38;5;241m=\u001b[39m \u001b[43mnp\u001b[49m\u001b[38;5;241;43m.\u001b[39;49m\u001b[43meinsum\u001b[49m\u001b[43m(\u001b[49m\u001b[38;5;124;43m'\u001b[39;49m\u001b[38;5;124;43mij, kjl -> kil\u001b[39;49m\u001b[38;5;124;43m'\u001b[39;49m\u001b[43m,\u001b[49m\u001b[43m \u001b[49m\u001b[43munbiased_X\u001b[49m\u001b[43m,\u001b[49m\u001b[43m \u001b[49m\u001b[38;5;28;43mself\u001b[39;49m\u001b[38;5;241;43m.\u001b[39;49m\u001b[43mtensor_inv_cov\u001b[49m\u001b[43m)\u001b[49m\n\u001b[0;32m      6\u001b[0m     diag_inner_prod \u001b[38;5;241m=\u001b[39m np\u001b[38;5;241m.\u001b[39meinsum(\u001b[38;5;124m'\u001b[39m\u001b[38;5;124mijk, ikj -> ij\u001b[39m\u001b[38;5;124m'\u001b[39m, prod_elementwise, unbiased_X)\n\u001b[0;32m      7\u001b[0m     \u001b[38;5;28;01mreturn\u001b[39;00m \u001b[38;5;241m0.5\u001b[39m \u001b[38;5;241m*\u001b[39m np\u001b[38;5;241m.\u001b[39mlog(det(\u001b[38;5;28mself\u001b[39m\u001b[38;5;241m.\u001b[39mtensor_inv_cov)) \u001b[38;5;241m-\u001b[39m \u001b[38;5;241m0.5\u001b[39m \u001b[38;5;241m*\u001b[39m diag_inner_prod\n",
      "File \u001b[1;32m<__array_function__ internals>:180\u001b[0m, in \u001b[0;36meinsum\u001b[1;34m(*args, **kwargs)\u001b[0m\n",
      "File \u001b[1;32mc:\\Users\\Usuario\\AppData\\Local\\Programs\\Python\\Python310\\lib\\site-packages\\numpy\\core\\einsumfunc.py:1371\u001b[0m, in \u001b[0;36meinsum\u001b[1;34m(out, optimize, *operands, **kwargs)\u001b[0m\n\u001b[0;32m   1369\u001b[0m     \u001b[38;5;28;01mif\u001b[39;00m specified_out:\n\u001b[0;32m   1370\u001b[0m         kwargs[\u001b[38;5;124m'\u001b[39m\u001b[38;5;124mout\u001b[39m\u001b[38;5;124m'\u001b[39m] \u001b[38;5;241m=\u001b[39m out\n\u001b[1;32m-> 1371\u001b[0m     \u001b[38;5;28;01mreturn\u001b[39;00m c_einsum(\u001b[38;5;241m*\u001b[39moperands, \u001b[38;5;241m*\u001b[39m\u001b[38;5;241m*\u001b[39mkwargs)\n\u001b[0;32m   1373\u001b[0m \u001b[38;5;66;03m# Check the kwargs to avoid a more cryptic error later, without having to\u001b[39;00m\n\u001b[0;32m   1374\u001b[0m \u001b[38;5;66;03m# repeat default values here\u001b[39;00m\n\u001b[0;32m   1375\u001b[0m valid_einsum_kwargs \u001b[38;5;241m=\u001b[39m [\u001b[38;5;124m'\u001b[39m\u001b[38;5;124mdtype\u001b[39m\u001b[38;5;124m'\u001b[39m, \u001b[38;5;124m'\u001b[39m\u001b[38;5;124morder\u001b[39m\u001b[38;5;124m'\u001b[39m, \u001b[38;5;124m'\u001b[39m\u001b[38;5;124mcasting\u001b[39m\u001b[38;5;124m'\u001b[39m]\n",
      "\u001b[1;31mValueError\u001b[0m: operand has more dimensions than subscripts given in einstein sum, but no '...' ellipsis provided to broadcast the extra dimensions."
     ]
    }
   ],
   "source": [
    "%%timeit -n 1000 -r 10\n",
    "# ---------------- Tiempos de predicción FasterQDA en conjunto de testeo ----------------\n",
    "\n",
    "faster_qda_iris_pred_test = faster_qda_iris.predict(test_x)"
   ]
  },
  {
   "cell_type": "markdown",
   "metadata": {},
   "source": [
    "### LDA\n",
    "\n",
    "1. \"Tensorizar\" el modelo LDA y comparar sus tiempos de predicción con el modelo antes implementado. *Notar que, en modo tensorizado, se puede directamente precomputar $\\mu^T \\cdot \\Sigma^{-1} \\in \\mathbb{R}^{k \\times 1 \\times p}$ y guardar eso en vez de $\\Sigma^{-1}$.*"
   ]
  },
  {
   "cell_type": "code",
   "execution_count": null,
   "metadata": {},
   "outputs": [],
   "source": [
    "''' Código Implementado LDA\n",
    "\n",
    "\n",
    "class LDA(BaseBayesianClassifier):\n",
    "\n",
    "    def _fit_params(self, X, y):\n",
    "        cov_matrix = np.cov(X, bias=True) # Se cambia la matriz de covarianzas en QDA, por matriz única\n",
    "        \n",
    "        # Inversa de la matriz de covarianza\n",
    "        self.inv_shared_cov = inv(cov_matrix) \n",
    "\n",
    "        # Calcular las medias por clase\n",
    "        self.means = [X[:,y.flatten()==idx].mean(axis=1, keepdims=True)\n",
    "                      for idx in range(len(self.log_a_priori))]\n",
    "        \n",
    "    def _predict_log_conditional(self, x, class_idx):\n",
    "        # Predecir el logaritmo de P(x|G=class_idx)\n",
    "        unbiased_x =  x - self.means[class_idx]\n",
    "        return -0.5 * unbiased_x.T @ self.inv_shared_cov @ unbiased_x\n",
    "        \n",
    "'''"
   ]
  },
  {
   "cell_type": "code",
   "execution_count": 95,
   "metadata": {},
   "outputs": [
    {
     "name": "stdout",
     "output_type": "stream",
     "text": [
      "{'LDA': 0.0030012130737304688, 'TensorizedLDA': 0.0010004043579101562}\n"
     ]
    }
   ],
   "source": [
    "import time\n",
    "\n",
    "# TensorizedLDA class\n",
    "class TensorizedLDA(LDA):\n",
    "\n",
    "    def _fit_params(self, X, y):\n",
    "        super()._fit_params(X, y)\n",
    "        self.tensor_inv_cov = np.stack([self.inv_shared_cov] * len(self.means))\n",
    "        self.tensor_means = np.stack(self.means)\n",
    "        self.mu_inv_cov = self.tensor_means.transpose(0, 2, 1) @ self.tensor_inv_cov\n",
    "\n",
    "    def _predict_log_conditionals(self, x):\n",
    "        '''unbiased_x = x - self.tensor_means\n",
    "        return unbiased_x.transpose(0, 2, 1) @ self.tensor_inv_cov @ unbiased_x'''\n",
    "\n",
    "        # NUEVO!!!!\n",
    "        # Calcula mu^T . Sigma^{-1} . x) para todas las clases\n",
    "        log_conditionals = self.mu_inv_cov @ x\n",
    "    \n",
    "        # Calcular mu^T . Sigma^{-1} . mu)  y  mu^T . Sigma^{-1} . x\n",
    "        mu_sigma_inv_mu = np.einsum('ijk,ik->ij', self.mu_inv_cov, self.tensor_means[:, :, 0])\n",
    "    \n",
    "        return log_conditionals - 0.5 * mu_sigma_inv_mu[:, np.newaxis]\n",
    "\n",
    "\n",
    "    def _predict_one(self, x):\n",
    "        return np.argmax(self.log_a_priori - 0.5 * self._predict_log_conditionals(x).flatten())\n",
    "    \n",
    "\n",
    "\n",
    "\n",
    "# Measure prediction times\n",
    "def medir_tiempos_de_prediccion(modelos, X_test):\n",
    "    tiempos = {}\n",
    "    for nombre, modelo in modelos.items():\n",
    "        inicio = time.time()\n",
    "        modelo.predict(X_test)\n",
    "        fin = time.time()\n",
    "        tiempos[nombre] = fin - inicio\n",
    "    return tiempos\n",
    "\n",
    "# Test data\n",
    "X_train = np.random.randn(10, 100)  # 100 samples, 10 features\n",
    "y_train = np.random.randint(0, 3, 100)  # 3 classes\n",
    "X_test = np.random.randn(10, 50)  # 50 samples, 10 features\n",
    "\n",
    "# Initialize models\n",
    "lda = LDA()\n",
    "tensorized_lda = TensorizedLDA()\n",
    "\n",
    "# Fit models\n",
    "lda.fit(X_train, y_train)\n",
    "tensorized_lda.fit(X_train, y_train)\n",
    "\n",
    "# Models to compare\n",
    "modelos = {\n",
    "    'LDA': lda,\n",
    "    'TensorizedLDA': tensorized_lda\n",
    "}\n",
    "\n",
    "# Measure and compare prediction times\n",
    "tiempos = medir_tiempos_de_prediccion(modelos, X_test)\n",
    "print(tiempos)"
   ]
  },
  {
   "cell_type": "markdown",
   "metadata": {},
   "source": [
    "2. LDA no sufre del problema antes descrito de QDA debido a que no computa productos internos, por lo que no tiene un verdadero costo extra en memoria predecir \"en batch\". Implementar el modelo `FasterLDA` y comparar sus tiempos de predicción con las versiones anteriores de LDA."
   ]
  },
  {
   "cell_type": "code",
   "execution_count": 68,
   "metadata": {},
   "outputs": [
    {
     "name": "stdout",
     "output_type": "stream",
     "text": [
      "{'LDA': 0.0009987354278564453, 'TensorizedLDA': 0.0009984970092773438, 'FasterLDA': 0.0}\n"
     ]
    }
   ],
   "source": [
    "# FasterLDA class\n",
    "class FasterLDA(LDA):\n",
    "\n",
    "    def _fit_params(self, X, y):\n",
    "        super()._fit_params(X, y)\n",
    "        self.inv_cov = inv(np.cov(X, bias=True))\n",
    "        self.means = np.array([X[:, y == i].mean(axis=1) for i in np.unique(y)])\n",
    "        self.mu_inv_cov = self.means @ self.inv_cov\n",
    "\n",
    "    def predict(self, X):\n",
    "\n",
    "        log_probs = np.zeros((X.shape[1], len(self.means)))\n",
    "        for i in range(X.shape[1]):\n",
    "            for j in range(len(self.means)):\n",
    "                u_j = self.means[j]\n",
    "                log_prob_j = np.dot(X[:,i] - 0.5 * u_j, np.dot(self.inv_cov, (X[:,i] - 0.5 * u_j).T))\n",
    "                log_probs[i, j] = log_prob_j\n",
    "        return log_probs\n",
    "        \n",
    "        print(\"self.means\", self.means.shape)\n",
    "        print(\"X.T\", X.T.shape)\n",
    "        print(\"inv_cov\", self.inv_cov.shape)\n",
    "        print(\"prod\", (X.T @ self.inv_cov).shape)\n",
    "        print(\"prod * X\", ((X.T @ self.inv_cov) @ X).shape)\n",
    "        print(\"self.mu_inv_cov @ X\", (self.mu_inv_cov @ X).shape)\n",
    "        \n",
    "        '''log_conditionals = (self.means.T @ self.inv_cov) @ X - 0.5 * self.mu_inv_cov @ self.means\n",
    "        log_conditionals = log_conditionals.T\n",
    "        return np.argmax(self.log_a_priori + log_conditionals, axis=1)'''\n",
    "\n",
    "# Measure prediction times\n",
    "def medir_tiempos_de_prediccion(modelos, X_test):\n",
    "    tiempos = {}\n",
    "    for nombre, modelo in modelos.items():\n",
    "        inicio = time.time()\n",
    "        modelo.predict(X_test)\n",
    "        fin = time.time()\n",
    "        tiempos[nombre] = fin - inicio\n",
    "    return tiempos\n",
    "\n",
    "# Test data\n",
    "X_train = np.random.randn(10, 100)  # 100 samples, 10 features\n",
    "y_train = np.random.randint(0, 3, 100)  # 3 classes\n",
    "X_test = np.random.randn(10, 50)  # 50 samples, 10 features\n",
    "\n",
    "# Initialize models\n",
    "lda = LDA()\n",
    "tensorized_lda = TensorizedLDA()\n",
    "faster_lda = FasterLDA()\n",
    "\n",
    "# Fit models\n",
    "lda.fit(X_train, y_train)\n",
    "tensorized_lda.fit(X_train, y_train)\n",
    "faster_lda.fit(X_train, y_train)\n",
    "\n",
    "# Models to compare\n",
    "modelos = {\n",
    "    'LDA': lda,\n",
    "    'TensorizedLDA': tensorized_lda,\n",
    "    'FasterLDA': faster_lda\n",
    "}\n",
    "\n",
    "# Measure and compare prediction times\n",
    "tiempos = medir_tiempos_de_prediccion(modelos, X_test)\n",
    "print(tiempos)"
   ]
  },
  {
   "cell_type": "markdown",
   "metadata": {},
   "source": [
    "## Preguntas teóricas"
   ]
  },
  {
   "cell_type": "markdown",
   "metadata": {},
   "source": [
    "### 1. En LDA se menciona que la función a maximizar puede ser, mediante operaciones, convertida en:\n",
    "$$ \\log{f_j(x)} =  \\mu_j^T \\Sigma^{-1} (x- \\frac{1}{2} \\mu_j) + C' $$ \n",
    "Mostrar los pasos por los cuales se llega a dicha expresión.\n",
    "\n",
    "### Desarrollo\n",
    "\n",
    "Asumimos que para LDA $ X|_{G=j} \\sim \\mathcal{N}_p(\\mu_j, \\Sigma_j) $, por lo que vamos a partir de la definición de la función de densidad de probabilidad de una distribución normal multivariada:\n",
    "\n",
    "$$ f_j(x) = \\frac{1}{(2 \\pi)^\\frac{p}{2} \\cdot |\\Sigma_j|^\\frac{1}{2}} e^{-\\frac{1}{2}(x-\\mu_j)^T \\Sigma_j^{-1} (x- \\mu_j)} $$\n",
    "\n",
    "Aplicamos el logaritmo natural a $ f_j(x) $ para obtener una expresión más sensilla para trabajar. No se afectarian a los mínimos ni máximos de la función al ser el logaritmo una función estrictamente creciente.\n",
    "\n",
    "$$ \\log{f_j(x)} = \\log{[\\frac{1}{(2 \\pi)^\\frac{p}{2} \\cdot |\\Sigma_j|^\\frac{1}{2}} e^{-\\frac{1}{2}(x-\\mu_j)^T \\Sigma_j^{-1} (x- \\mu_j)}]} $$\n",
    "\n",
    "Aplicando las propiedades del logaritmo respecto del producto\n",
    "\n",
    "$$ \\log{f_j(x)} = \\log{1} - \\{\\log{[(2 \\pi)^ \\frac{p}{2}]} + \\log{| \\Sigma_j|^ \\frac{1}{2}\\}} + \\log{e^{-\\frac{1}{2}(x-\\mu_j)^T \\Sigma_j^{-1} (x- \\mu_j)}} $$\n",
    "\n",
    "Aplicando la propiedad del logaritmo respecto de la potencia\n",
    "\n",
    "$$ \\log{f_j(x)} = \\log{1} - \\frac{p}{2} \\log{2 \\pi} - \\frac{1}{2} \\log{| \\Sigma_j|} -\\frac{1}{2}(x-\\mu_j)^T \\Sigma_j^{-1} (x- \\mu_j) \\log{e} $$\n",
    "\n",
    "$$ \\log{f_j(x)} = 0 - \\frac{p}{2} \\log{2 \\pi} - \\frac{1}{2} \\log{| \\Sigma_j|} -\\frac{1}{2}(x-\\mu_j)^T \\Sigma_j^{-1} (x- \\mu_j) $$\n",
    "\n",
    "$$ \\log{f_j(x)} = - \\frac{p}{2} \\log{2 \\pi} - \\frac{1}{2} \\log{| \\Sigma_j|} -\\frac{1}{2}(x-\\mu_j)^T \\Sigma_j^{-1} (x- \\mu_j) $$\n",
    "\n",
    "Se puede observar que el término $- \\frac{p}{2} \\log{2 \\pi} $ es constante (el cual no afectará al calcular la derivada del logaritmo de la función de maximización) por lo cual para facilitar la demostración lo vamos a representar dentro de una contaste que llamaremos C.\n",
    "\n",
    "$$ \\log{f_j(x)} = - \\frac{1}{2} \\log{| \\Sigma_j|} -\\frac{1}{2}(x-\\mu_j)^T \\Sigma_j^{-1} (x- \\mu_j) + C $$\n",
    "\n",
    "Aplicando propiedades de la traspuesta de una matriz\n",
    "\n",
    "$$ \\log{f_j(x)} = - \\frac{1}{2} \\log{| \\Sigma_j|} -\\frac{1}{2}(x^T-\\mu_j^T) \\Sigma_j^{-1} (x- \\mu_j) + C $$\n",
    "\n",
    "$$ \\log{f_j(x)} = - \\frac{1}{2} \\log{| \\Sigma_j|} -\\frac{1}{2}(x^T-\\mu_j^T)( \\Sigma_j^{-1} \\cdot x- \\Sigma_j^{-1} \\cdot \\mu_j) + C $$\n",
    "\n",
    "$$ \\log{f_j(x)} = - \\frac{1}{2} \\log{| \\Sigma_j|} -\\frac{1}{2}(x^T \\cdot \\Sigma_j^{-1} \\cdot x- x^T \\cdot \\Sigma_j^{-1} \\cdot \\mu_j- \\mu_j^T \\cdot \\Sigma_j^{-1} \\cdot x+ \\mu_j^T \\cdot \\Sigma_j^{-1} \\cdot \\mu_j) + C $$\n",
    "\n",
    "Al ser $ X|_{G=j} \\sim \\mathcal{N}_p(\\mu_j, \\Sigma_j) $ multivariada, $ \\Sigma_j $ es cuadrada y se define simétrica y positiva y por lo tanto $ \\Sigma_j^{-1} $ tambien será simétrica. Por lo tanto $ \\Sigma_j^{-1} = ( \\Sigma_j^{-1})^T $. Entonces podemos decir que:\n",
    "\n",
    "$$ -x^T \\cdot \\Sigma_j^{-1} \\cdot u_j = -u_j^T \\cdot \\Sigma_j^{-1} \\cdot x $$ \n",
    "\n",
    "Entonces:\n",
    "\n",
    "$$ \\log{f_j(x)} = - \\frac{1}{2} \\log{| \\Sigma_j|} -\\frac{1}{2}(x^T \\cdot \\Sigma_j^{-1} \\cdot x- 2 \\mu_j^T \\cdot \\Sigma_j^{-1} \\cdot x+ \\mu_j^T \\cdot \\Sigma_j^{-1} \\cdot \\mu_j) + C $$\n",
    "\n",
    "$$ \\log{f_j(x)} = - \\frac{1}{2} \\log{| \\Sigma_j|} -\\frac{1}{2}x^T \\cdot \\Sigma_j^{-1} \\cdot x+ \\mu_j^T \\cdot \\Sigma_j^{-1} \\cdot x -\\frac{1}{2} \\mu_j^T \\cdot \\Sigma_j^{-1} \\cdot \\mu_j + C $$\n",
    "\n",
    "Además, para LDA se asume que $ \\Sigma_j $ debe ser igual para todas las clases, entonces\n",
    "\n",
    "$$ \\log{f_j(x)} = - \\frac{1}{2} \\log{| \\Sigma|} -\\frac{1}{2}x^T \\cdot \\Sigma^{-1} \\cdot x+ \\mu_j^T \\cdot \\Sigma^{-1} \\cdot x -\\frac{1}{2} \\mu_j^T \\cdot \\Sigma^{-1} \\cdot \\mu_j + C $$\n",
    "\n",
    "El término $ - \\frac{1}{2} \\log{| \\Sigma|} $ será el mismo para todas las clases, por lo que para simplificar la expresión vamos a agruparlo en una contante $ C' = C - \\frac{1}{2} \\log{| \\Sigma|} $\n",
    "\n",
    "$$ \\log{f_j(x)} = - \\frac{1}{2}x^T \\cdot \\Sigma^{-1} \\cdot x+ \\mu_j^T \\cdot \\Sigma^{-1} \\cdot x -\\frac{1}{2} \\mu_j^T \\cdot \\Sigma^{-1} \\cdot \\mu_j + C' $$\n",
    "\n",
    "El objetivo de el método, es encontrar los parámetros en que el $ \\log{f_j(x)} $ sea máximo respecto de j. El término $ - \\frac{1}{2}x^T \\cdot \\Sigma^{-1} \\cdot x $ no depende de j, por lo que no va a afectar el cálculo del valor en el cual el logaritmo será máximo, por esta razón podemos agregar dicho término a una nueva constante $ C'' = C' - \\frac{1}{2}x^T \\cdot \\Sigma^{-1} \\cdot x $. Entonces\n",
    "\n",
    "$$ \\log{f_j(x)} = \\mu_j^T \\cdot \\Sigma^{-1} \\cdot x -\\frac{1}{2} \\mu_j^T \\cdot \\Sigma^{-1} \\cdot \\mu_j + C'' $$\n",
    "\n",
    "$$ \\log{f_j(x)} = \\mu_j^T \\cdot \\Sigma^{-1} (x -\\frac{1}{2} \\mu_j) + C'' $$"
   ]
  },
  {
   "cell_type": "markdown",
   "metadata": {},
   "source": [
    "### 2. Explicar, utilizando las respectivas funciones a maximizar, por qué QDA y LDA son \"quadratic\" y \"linear\".\n",
    "\n",
    "#### LDA\n",
    "$$ \\log{f_j(x)} = \\mu_j^T \\cdot \\Sigma^{-1} (x -\\frac{1}{2} \\mu_j) + C'' $$\n",
    "Se puede observar que la función de maximización tiene una forma lineal en x, por lo cual se la denomina lineal.\n",
    "\n",
    "#### QDA\n",
    "\n",
    "$$ \\log{f_j(x)} = - \\frac{1}{2} \\log{| \\Sigma_j|} -\\frac{1}{2}(x-\\mu_j)^T \\Sigma_j^{-1} (x- \\mu_j) + C $$\n",
    "En esta función de maximización aparece un término cuadrático en x, por esto es que se la denomina cuadrática."
   ]
  },
  {
   "cell_type": "markdown",
   "metadata": {
    "jp-MarkdownHeadingCollapsed": true,
    "tags": []
   },
   "source": [
    "### 3. La implementación de QDA estima la probabilidad condicional utilizando `0.5*np.log(det(inv_cov)) -0.5 * unbiased_x.T @ inv_cov @ unbiased_x` que no es *exactamente* lo descrito en el apartado teórico ¿Cuáles son las diferencias y por qué son expresiones equivalentes?\n",
    "\n",
    "La diferencia que existe entre ambas funciones está en el primer término. En la función de la implementación, el logaritmo se hace respecto del determinante de la inversa de la matriz de covarianzas mientras que en la función teórica, se hace respecto de la matriz de covarianzas. Pero se puede demostrar que ambas funciones son equivalentes:\n",
    "\n",
    "#### Demostración\n",
    "\n",
    "$$ \\log{f_j(x)} = - \\frac{1}{2} \\log{| \\Sigma_j|} -\\frac{1}{2}(x-\\mu_j)^T \\Sigma_j^{-1} (x- \\mu_j) + C $$\n",
    "\n",
    "Por propiedades del logaritmo, podemos decir que\n",
    "\n",
    "$$ - \\log{x} = \\log{ \\frac{1}{x}} $$\n",
    " \n",
    "Entonces:\n",
    "\n",
    "$$ \\log{f_j(x)} = \\frac{1}{2} \\log{ \\frac{1}{| \\Sigma_j|}} -\\frac{1}{2}(x-\\mu_j)^T \\Sigma_j^{-1} (x- \\mu_j) + C $$\n",
    "\n",
    "Por propiedades del determinante de una matriz\n",
    "\n",
    "$$ det(A^{-1}) = \\frac{1}{det(A)} $$\n",
    "\n",
    "Por lo tanto,\n",
    "\n",
    "$$ \\log{f_j(x)} = \\frac{1}{2} \\log{| \\Sigma_j^{-1}|} -\\frac{1}{2}(x-\\mu_j)^T \\Sigma_j^{-1} (x- \\mu_j) + C $$\n",
    "\n",
    "De esta manera queda demostrado que ambas funciónes son equivalentes."
   ]
  },
  {
   "cell_type": "markdown",
   "metadata": {},
   "source": [
    "## Ejercicio teórico"
   ]
  },
  {
   "cell_type": "markdown",
   "metadata": {
    "tags": []
   },
   "source": [
    "Red neuronal de 2 capas => 3 neuronas => 1 neurona\n",
    "\n",
    "$$\n",
    "W^{1} =\n",
    "\\begin{pmatrix}\n",
    "0.1 & -0.5 \\\\\n",
    "-0.3 & -0.9 \\\\\n",
    "0.8 & 0.02\n",
    "\\end{pmatrix}, \n",
    "b^{1} =\n",
    "\\begin{pmatrix}\n",
    "0.1 \\\\\n",
    "0.5 \\\\\n",
    "0.8\n",
    "\\end{pmatrix}\n",
    "$$\n",
    "\n",
    "$$\n",
    "W^{2} =\n",
    "\\begin{pmatrix}\n",
    "-0.4 & 0.2 & -0.5\n",
    "\\end{pmatrix}, \n",
    "b^{2} = 0.7\n",
    "$$\n",
    "\n",
    "$$ \\sigma (z) = \\frac{1}{1 + e^{-Z}}$$\n",
    "\n",
    "Dados\n",
    "$$\n",
    "J( \\theta) = \\frac{1}{2} (\\hat{y}_ \\theta - y)^2$$\n",
    "$$\n",
    "X =\n",
    "\\begin{pmatrix}\n",
    "1.8 \\\\\n",
    "-3.4\n",
    "\\end{pmatrix}, Y = 5\n",
    "$$\n",
    "\n",
    "### Paso 1: Forward\n",
    "\n",
    "#### Para la capa oculta\n",
    "\n",
    "##### Se calcula $z^1$\n",
    "$$ z^1 = W^1 \\cdot X + b^1$$\n",
    "\n",
    "$$ z^1 = \n",
    "\\begin{pmatrix} 0.1 & -0.5 \\\\ -0.3 & -0.9 \\\\  0.8 & 0.02 \\end{pmatrix} \n",
    "\\cdot \n",
    "\\begin{pmatrix} 1.8 \\\\ -3.4 \\end{pmatrix}  \n",
    "+ \n",
    "\\begin{pmatrix} 0.1 \\\\ 0.5 \\\\ 0.8 \\end{pmatrix}$$\n",
    "\n",
    "$$ z^1 = \n",
    "\\begin{pmatrix} 1.88 \\\\ 2.52 \\\\ 1.372 \\end{pmatrix}  \n",
    "+ \n",
    "\\begin{pmatrix} 0.1 \\\\ 0.5 \\\\ 0.8 \\end{pmatrix}$$\n",
    "\n",
    "$$ z^1 = \n",
    "\\begin{pmatrix} 1.98 \\\\ 3.02 \\\\ 2.172 \\end{pmatrix}$$\n",
    "\n",
    "##### Se calcula $Y^1$\n",
    "\n",
    "$$Y^1 = \\sigma(z^1)$$\n",
    "\n",
    "$$Y^1 = \\sigma \\begin{pmatrix} 1.98 \\\\ 3.02 \\\\ 2.172 \\end{pmatrix}$$\n",
    "\n",
    "$$ Y^1 = \n",
    "\\begin{pmatrix} \n",
    "\\frac{1}{1 + e^{-1.98}} \\\\ \\frac{1}{1 + e^{-3.02}} \\\\ \\frac{1}{1 + e^{-2.172}}\n",
    "\\end{pmatrix} $$\n",
    "\n",
    "$$Y^1 = \\begin{pmatrix} 0.879 \\\\ 0.953 \\\\ 0.898 \\end{pmatrix}$$\n",
    "\n",
    "#### Para la capa de salida\n",
    "\n",
    "$$ Y^1 = X^2 = \\begin{pmatrix} 0.879 \\\\ 0.953 \\\\ 0.898 \\end{pmatrix} $$\n",
    "\n",
    "##### Se calcula $z^2$\n",
    "$$ z^2 = W^2 \\cdot X^2 + b^2 $$\n",
    "\n",
    "$$ z^2 = \\begin{pmatrix} -0.4 & 0.2 & -0.5 \\end{pmatrix}\n",
    "\\cdot\n",
    "\\begin{pmatrix} 0.879 \\\\ 0.953 \\\\ 0.898 \\end{pmatrix} \n",
    "+\n",
    "0.7 $$\n",
    "\n",
    "$$ z^2 = -0.61 + 0.7 $$\n",
    "\n",
    "$$ z^2 = 0.09 $$\n",
    "\n",
    "##### Se calcula $Y^2$\n",
    "\n",
    "$$Y^2 = \\sigma(z^2)$$\n",
    "\n",
    "$$Y^2 = \\sigma(0.09)$$\n",
    "\n",
    "$$Y^2 = \\frac{1}{1 + e^{-0.09}}$$\n",
    "\n",
    "$$Y^2 = 0.522 $$\n",
    "\n",
    "##### Se calcula $J(\\theta)$\n",
    "\n",
    "$ Y^2 = \\hat y_\\theta = 0.522 $\n",
    "\n",
    "$$ J(\\theta) = \\frac{1}{2}(\\hat y_\\theta -y)^2$$\n",
    "\n",
    "$$J(\\theta) = \\frac{1}{2}(0.522 - 5)^2$$\n",
    "\n",
    "$$J(\\theta) = \\frac{1}{2}(-4.478)^2$$\n",
    "\n",
    "$$J(\\theta) = \\frac{1}{2} \\cdot 20.05$$\n",
    "\n",
    "$$J(\\theta) = 10.026 $$\n",
    "\n",
    "### Paso 2: Backpropagation\n",
    "\n",
    "Para facilitar la notación llamaremos a \n",
    "$\\frac{\\delta J}{\\delta z^1}$ como $\\Delta z^1$,\n",
    "$\\frac{\\delta J}{\\delta W^1}$ como $\\Delta W^1$,\n",
    "$\\frac{\\delta J}{\\delta b^1}$ como $\\Delta b^1$,\n",
    "\n",
    "$\\frac{\\delta J}{\\delta X^2}$ como $\\Delta X^2$,\n",
    "$\\frac{\\delta J}{\\delta z^2}$ como $\\Delta z^2$,\n",
    "$\\frac{\\delta J}{\\delta W^2}$ como $\\Delta W^2$,\n",
    "y a \n",
    "$\\frac{\\delta J}{\\delta b^2}$ como $\\Delta b^2$\n",
    "\n",
    "#### Para la capa de salida\n",
    "\n",
    "##### Se calcula $ \\Delta z^2 $\n",
    "\n",
    "$$ \\Delta z^2 = \\hat y_\\theta - y $$\n",
    "\n",
    "$$ \\Delta z^2 = 0.522 - 5 $$\n",
    "\n",
    "$$ \\Delta z^2 = -4.478 $$\n",
    "\n",
    "##### Se calcula $ \\Delta W^2 $\n",
    "\n",
    "$$ \\Delta W^2 = \\Delta z^2 \\cdot (X^2)^T $$\n",
    "\n",
    "$$ \\Delta W^2 = -4.478 \\cdot \\begin{pmatrix} 0.879 & 0.953 & 0.898 \\end{pmatrix} $$\n",
    "\n",
    "$$ \\Delta W^2 = \\begin{pmatrix} -3.936 & -4.267 & -4.021 \\end{pmatrix} $$\n",
    "\n",
    "##### Se calcula $ \\Delta b^2 $\n",
    "\n",
    "$$ \\Delta b^2 = \\Delta z^2 $$\n",
    "\n",
    "$$ \\Delta b^2 = -4.478 $$\n",
    "\n",
    "#### Para la capa oculta\n",
    "\n",
    "##### Se calcula $ \\Delta X^2 $\n",
    "\n",
    "$$ \\Delta X^2 = (W^2)^T \\cdot \\Delta Z^2 $$\n",
    "\n",
    "$$ \\Delta X^2 = \\begin{pmatrix} -0.4 \\\\ 0.2 \\\\ -0.5 \\end{pmatrix} \n",
    "\\cdot \n",
    "(-4.478) $$\n",
    "\n",
    "$$ \\Delta X^2 = \\begin{pmatrix} 1.791 \\\\ -0.896 \\\\ 2.239 \\end{pmatrix} $$\n",
    "\n",
    "##### Se calcula $ \\Delta Y^1 $\n",
    "\n",
    "$$ \\Delta X^2 = \\Delta Y^1 $$\n",
    "\n",
    "$$ \\Delta Y^1 = \\begin{pmatrix} 1.791 \\\\ -0.896 \\\\ 2.239 \\end{pmatrix} $$\n",
    "\n",
    "##### Se calcula $ \\Delta z^1 $\n",
    "\n",
    "$$ \\Delta z^1 = \\Delta Y^1 \\cdot \\delta'(z^1) $$\n",
    "\n",
    "Primero vamos a calcular $  \\delta'(z^1) $\n",
    "\n",
    "$$ \\delta'(z^1) = \\delta(z^1)[1 - \\delta(z^1)] $$\n",
    "\n",
    "$$ \\delta'(z^1) = \\begin{pmatrix} \\delta(1.98) \\\\ \\delta(3.02) \\\\ \\delta(2.172) \\end{pmatrix}\n",
    "\\cdot\n",
    "[1 - \\begin{pmatrix} \\delta(1.98) \\\\ \\delta(3.02) \\\\ \\delta(2.172) \\end{pmatrix}]\n",
    "$$\n",
    "\n",
    "$$ \\delta'(z^1) = \\begin{pmatrix} 0.879 \\\\ 0.953 \\\\ 0.898 \\end{pmatrix}\n",
    "\\cdot\n",
    "[1 - \\begin{pmatrix} 0.879 \\\\ 0.953 \\\\ 0.898 \\end{pmatrix}]\n",
    "$$\n",
    "\n",
    "$$ \\delta'(z^1) = \\begin{pmatrix} 0.879 \\\\ 0.953 \\\\ 0.898 \\end{pmatrix}\n",
    "\\cdot\n",
    "\\begin{pmatrix} 0.121 \\\\ 0.047 \\\\ 0.102 \\end{pmatrix}\n",
    "$$\n",
    "\n",
    "$$ \\delta'(z^1) = \\begin{pmatrix} 0.106 \\\\ 0.045 \\\\ 0.092 \\end{pmatrix}$$\n",
    "\n",
    "Una vez obtenida la $\\delta'(z^1)$ calcularemos $ \\Delta z^1$\n",
    "\n",
    "$$ \\Delta z^1 = \\Delta Y^1 \\cdot \\delta'(z^1) $$\n",
    "\n",
    "$$ \\Delta z^1 = \n",
    "\\begin{pmatrix} 1.791 \\\\ -0.896 \\\\ 2.239 \\end{pmatrix} \n",
    "\\cdot\n",
    "\\begin{pmatrix} 0.106 \\\\ 0.045 \\\\ 0.092 \\end{pmatrix} $$\n",
    "\n",
    "$$ \\Delta z^1 = \\begin{pmatrix} 0.190 \\\\ -0.040 \\\\ 0.206 \\end{pmatrix} $$\n",
    "\n",
    "##### Se calcula $ \\Delta W^1 $\n",
    "\n",
    "$$ \\Delta W^1 = \\Delta z^1 \\cdot (X^1)^T $$\n",
    "\n",
    "$$ \\Delta W^1 = \n",
    "\\begin{pmatrix} 0.190 \\\\ -0.040 \\\\ 0.206 \\end{pmatrix} \n",
    "\\cdot \n",
    "\\begin{pmatrix} 1.8 & -3.4 \\end{pmatrix} $$\n",
    "\n",
    "$$ \\Delta W^1 = \\begin{pmatrix} 0.342 & -0.646 \\\\ -0.072 & 0.136 \\\\ 0.371 & -0.70 \\end{pmatrix} $$\n",
    "\n",
    "##### Se calcula $ \\Delta b^1 $\n",
    "\n",
    "$$ \\Delta b^1 = \\Delta z^1 $$\n",
    "\n",
    "$$ \\Delta b^1 = \\begin{pmatrix} 0.190 \\\\ -0.040 \\\\ 0.206 \\end{pmatrix} $$\n"
   ]
  }
 ],
 "metadata": {
  "colab": {
   "provenance": []
  },
  "kernelspec": {
   "display_name": "Python 3 (ipykernel)",
   "language": "python",
   "name": "python3"
  },
  "language_info": {
   "codemirror_mode": {
    "name": "ipython",
    "version": 3
   },
   "file_extension": ".py",
   "mimetype": "text/x-python",
   "name": "python",
   "nbconvert_exporter": "python",
   "pygments_lexer": "ipython3",
   "version": "3.10.6"
  }
 },
 "nbformat": 4,
 "nbformat_minor": 4
}
